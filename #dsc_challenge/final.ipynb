{
 "cells": [
  {
   "cell_type": "code",
   "execution_count": 1,
   "metadata": {},
   "outputs": [],
   "source": [
    "import numpy as np\n",
    "import pandas as pd\n",
    "from sklearn import model_selection\n",
    "from sklearn.linear_model import LinearRegression"
   ]
  },
  {
   "cell_type": "code",
   "execution_count": 31,
   "metadata": {},
   "outputs": [],
   "source": [
    "df = pd.read_csv(\"train.csv\")"
   ]
  },
  {
   "cell_type": "code",
   "execution_count": 32,
   "metadata": {},
   "outputs": [
    {
     "name": "stdout",
     "output_type": "stream",
     "text": [
      "car_id            int64\n",
      "model            object\n",
      "year              int64\n",
      "price             int64\n",
      "transmission     object\n",
      "mileage           int64\n",
      "fuelType         object\n",
      "tax               int64\n",
      "mpg             float64\n",
      "engineSize      float64\n",
      "dtype: object\n"
     ]
    }
   ],
   "source": [
    "print(df.dtypes)"
   ]
  },
  {
   "cell_type": "code",
   "execution_count": 33,
   "metadata": {},
   "outputs": [],
   "source": [
    "df.drop(columns='model',inplace=True)"
   ]
  },
  {
   "cell_type": "code",
   "execution_count": 34,
   "metadata": {},
   "outputs": [
    {
     "name": "stdout",
     "output_type": "stream",
     "text": [
      "car_id            int64\n",
      "year              int64\n",
      "price             int64\n",
      "transmission     object\n",
      "mileage           int64\n",
      "fuelType         object\n",
      "tax               int64\n",
      "mpg             float64\n",
      "engineSize      float64\n",
      "dtype: object\n"
     ]
    }
   ],
   "source": [
    "print(df.dtypes)"
   ]
  },
  {
   "cell_type": "code",
   "execution_count": 35,
   "metadata": {},
   "outputs": [
    {
     "name": "stdout",
     "output_type": "stream",
     "text": [
      "['Automatic' 'Manual' 'Semi-Auto']\n"
     ]
    }
   ],
   "source": [
    "print(pd.unique(df.transmission))"
   ]
  },
  {
   "cell_type": "code",
   "execution_count": 36,
   "metadata": {},
   "outputs": [],
   "source": [
    "def f(s):\n",
    "    if s=='Manual':\n",
    "        return 1\n",
    "    elif s=='Automatic':\n",
    "        return 2\n",
    "    elif s=='Semi-Auto':\n",
    "        return 3\n",
    "    else:\n",
    "        return -1\n",
    "df.transmission = df.transmission.apply(f)"
   ]
  },
  {
   "cell_type": "code",
   "execution_count": 37,
   "metadata": {},
   "outputs": [
    {
     "name": "stdout",
     "output_type": "stream",
     "text": [
      "car_id            int64\n",
      "year              int64\n",
      "price             int64\n",
      "transmission      int64\n",
      "mileage           int64\n",
      "fuelType         object\n",
      "tax               int64\n",
      "mpg             float64\n",
      "engineSize      float64\n",
      "dtype: object\n"
     ]
    }
   ],
   "source": [
    "print(df.dtypes)"
   ]
  },
  {
   "cell_type": "code",
   "execution_count": 38,
   "metadata": {},
   "outputs": [
    {
     "name": "stdout",
     "output_type": "stream",
     "text": [
      "['Diesel' 'Petrol' 'Other' 'Hybrid' 'Electric']\n"
     ]
    }
   ],
   "source": [
    "print(pd.unique(df.fuelType))"
   ]
  },
  {
   "cell_type": "code",
   "execution_count": 39,
   "metadata": {},
   "outputs": [],
   "source": [
    "def f2(s):\n",
    "    if s == 'Electric':\n",
    "        return 1\n",
    "    if s == 'Other':\n",
    "        return 2\n",
    "    if s == 'Hybrid':\n",
    "        return 3\n",
    "    if s == 'Diesel':\n",
    "        return 4\n",
    "    else:\n",
    "        return 5\n",
    "df.fuelType = df.fuelType.apply(f2)"
   ]
  },
  {
   "cell_type": "code",
   "execution_count": 40,
   "metadata": {},
   "outputs": [
    {
     "name": "stdout",
     "output_type": "stream",
     "text": [
      "car_id            int64\n",
      "year              int64\n",
      "price             int64\n",
      "transmission      int64\n",
      "mileage           int64\n",
      "fuelType          int64\n",
      "tax               int64\n",
      "mpg             float64\n",
      "engineSize      float64\n",
      "dtype: object\n"
     ]
    }
   ],
   "source": [
    "print(df.dtypes)"
   ]
  },
  {
   "cell_type": "code",
   "execution_count": 41,
   "metadata": {},
   "outputs": [],
   "source": [
    "df['e^year']=np.exp(df['year']-2000)"
   ]
  },
  {
   "cell_type": "code",
   "execution_count": 42,
   "metadata": {},
   "outputs": [
    {
     "name": "stdout",
     "output_type": "stream",
     "text": [
      "car_id            int64\n",
      "year              int64\n",
      "price             int64\n",
      "transmission      int64\n",
      "mileage           int64\n",
      "fuelType          int64\n",
      "tax               int64\n",
      "mpg             float64\n",
      "engineSize      float64\n",
      "e^year          float64\n",
      "dtype: object\n"
     ]
    }
   ],
   "source": [
    "print(df.dtypes)"
   ]
  },
  {
   "cell_type": "code",
   "execution_count": 43,
   "metadata": {},
   "outputs": [],
   "source": [
    "df['e^1/mileage']=np.exp(1/df['mileage'])"
   ]
  },
  {
   "cell_type": "code",
   "execution_count": 44,
   "metadata": {},
   "outputs": [],
   "source": [
    "df['tax^2'] = df['tax']**2"
   ]
  },
  {
   "cell_type": "code",
   "execution_count": 45,
   "metadata": {},
   "outputs": [
    {
     "name": "stdout",
     "output_type": "stream",
     "text": [
      "car_id            int64\n",
      "year              int64\n",
      "price             int64\n",
      "transmission      int64\n",
      "mileage           int64\n",
      "fuelType          int64\n",
      "tax               int64\n",
      "mpg             float64\n",
      "engineSize      float64\n",
      "e^year          float64\n",
      "e^1/mileage     float64\n",
      "tax^2             int64\n",
      "dtype: object\n"
     ]
    }
   ],
   "source": [
    "print(df.dtypes)"
   ]
  },
  {
   "cell_type": "code",
   "execution_count": 46,
   "metadata": {},
   "outputs": [
    {
     "name": "stdout",
     "output_type": "stream",
     "text": [
      "(8624,)\n"
     ]
    }
   ],
   "source": [
    "z = df['car_id']\n",
    "print(z.shape)"
   ]
  },
  {
   "cell_type": "code",
   "execution_count": 47,
   "metadata": {},
   "outputs": [
    {
     "name": "stdout",
     "output_type": "stream",
     "text": [
      "(8624,)\n"
     ]
    }
   ],
   "source": [
    "y = df['price']\n",
    "print(y.shape)"
   ]
  },
  {
   "cell_type": "code",
   "execution_count": 48,
   "metadata": {},
   "outputs": [
    {
     "name": "stdout",
     "output_type": "stream",
     "text": [
      "(8624, 10)\n"
     ]
    }
   ],
   "source": [
    "df.drop(columns=['price','car_id'],inplace=True)\n",
    "x = df.iloc[:,:]\n",
    "print(x.shape)"
   ]
  },
  {
   "cell_type": "code",
   "execution_count": 49,
   "metadata": {},
   "outputs": [
    {
     "name": "stdout",
     "output_type": "stream",
     "text": [
      "(6468, 10)\n",
      "(2156, 10)\n",
      "(6468,)\n",
      "(2156,)\n"
     ]
    }
   ],
   "source": [
    "x1,x2,y1,y2 = model_selection.train_test_split(x,y,random_state=0)\n",
    "print(x1.shape)\n",
    "print(x2.shape)\n",
    "print(y1.shape)\n",
    "print(y2.shape)"
   ]
  },
  {
   "cell_type": "code",
   "execution_count": 50,
   "metadata": {},
   "outputs": [
    {
     "name": "stdout",
     "output_type": "stream",
     "text": [
      "(6468,)\n",
      "(2156,)\n",
      "(6468, 10)\n",
      "(2156, 10)\n"
     ]
    }
   ],
   "source": [
    "z1,z2,x1,x2 = model_selection.train_test_split(z,x,random_state=0)\n",
    "print(z1.shape)\n",
    "print(z2.shape)\n",
    "print(x1.shape)\n",
    "print(x2.shape)"
   ]
  },
  {
   "cell_type": "code",
   "execution_count": 51,
   "metadata": {},
   "outputs": [],
   "source": [
    "alg = LinearRegression()"
   ]
  },
  {
   "cell_type": "code",
   "execution_count": 52,
   "metadata": {},
   "outputs": [
    {
     "data": {
      "text/plain": [
       "LinearRegression()"
      ]
     },
     "execution_count": 52,
     "metadata": {},
     "output_type": "execute_result"
    }
   ],
   "source": [
    "alg.fit(x1,y1)"
   ]
  },
  {
   "cell_type": "code",
   "execution_count": 53,
   "metadata": {},
   "outputs": [
    {
     "name": "stdout",
     "output_type": "stream",
     "text": [
      "0.6289988055766476\n"
     ]
    }
   ],
   "source": [
    "y_pred_2 = alg.predict(x2)\n",
    "print(alg.score(x2,y2))"
   ]
  },
  {
   "cell_type": "code",
   "execution_count": 54,
   "metadata": {},
   "outputs": [],
   "source": [
    "df2 = pd.read_csv(\"test.csv\")"
   ]
  },
  {
   "cell_type": "code",
   "execution_count": 55,
   "metadata": {},
   "outputs": [],
   "source": [
    "df2.drop(columns='model',inplace=True)"
   ]
  },
  {
   "cell_type": "code",
   "execution_count": 56,
   "metadata": {},
   "outputs": [],
   "source": [
    "def f(s):\n",
    "    if s=='Manual':\n",
    "        return 1\n",
    "    elif s=='Automatic':\n",
    "        return 2\n",
    "    elif s=='Semi-Auto':\n",
    "        return 3\n",
    "    else:\n",
    "        return -1\n",
    "df2.transmission = df2.transmission.apply(f)"
   ]
  },
  {
   "cell_type": "code",
   "execution_count": 57,
   "metadata": {},
   "outputs": [],
   "source": [
    "def f2(s):\n",
    "    if s == 'Electric':\n",
    "        return 1\n",
    "    if s == 'Other':\n",
    "        return 2\n",
    "    if s == 'Hybrid':\n",
    "        return 3\n",
    "    if s == 'Diesel':\n",
    "        return 4\n",
    "    else:\n",
    "        return 5\n",
    "df2.fuelType = df2.fuelType.apply(f2)"
   ]
  },
  {
   "cell_type": "code",
   "execution_count": 58,
   "metadata": {},
   "outputs": [],
   "source": [
    "df2['e^year']=np.exp(df2['year']-2000)"
   ]
  },
  {
   "cell_type": "code",
   "execution_count": 59,
   "metadata": {},
   "outputs": [],
   "source": [
    "df2['e^1/mileage']=np.exp(1/df2['mileage'])"
   ]
  },
  {
   "cell_type": "code",
   "execution_count": 60,
   "metadata": {},
   "outputs": [],
   "source": [
    "df2['tax^2'] = df2['tax']**2"
   ]
  },
  {
   "cell_type": "code",
   "execution_count": 61,
   "metadata": {},
   "outputs": [],
   "source": [
    "p = df2['car_id']"
   ]
  },
  {
   "cell_type": "code",
   "execution_count": 62,
   "metadata": {},
   "outputs": [
    {
     "name": "stdout",
     "output_type": "stream",
     "text": [
      "(2157, 10)\n",
      "(2157,)\n"
     ]
    }
   ],
   "source": [
    "q = df2.iloc[:,df2.columns!='car_id']\n",
    "print(q.shape)\n",
    "print(p.shape)"
   ]
  },
  {
   "cell_type": "code",
   "execution_count": 63,
   "metadata": {},
   "outputs": [],
   "source": [
    "r = alg.predict(q)"
   ]
  },
  {
   "cell_type": "code",
   "execution_count": 64,
   "metadata": {},
   "outputs": [
    {
     "name": "stdout",
     "output_type": "stream",
     "text": [
      "[15082.08686147 11910.38974729  8512.00852169 ... 17296.94939635\n",
      " 12468.98627945 15338.66454058]\n"
     ]
    }
   ],
   "source": [
    "print(r)"
   ]
  },
  {
   "cell_type": "code",
   "execution_count": 65,
   "metadata": {},
   "outputs": [
    {
     "name": "stdout",
     "output_type": "stream",
     "text": [
      "      car_id         price\n",
      "0      16589  15082.086861\n",
      "1      16590  11910.389747\n",
      "2      16591   8512.008522\n",
      "3      16592  19094.182052\n",
      "4      16593  12107.273854\n",
      "...      ...           ...\n",
      "2152   18741  15499.865251\n",
      "2153   18742  15552.967342\n",
      "2154   18743  17296.949396\n",
      "2155   18744  12468.986279\n",
      "2156   18745  15338.664541\n",
      "\n",
      "[2157 rows x 2 columns]\n"
     ]
    }
   ],
   "source": [
    "dff = pd.DataFrame({'car_id':p,'price':r})\n",
    "print(dff)"
   ]
  },
  {
   "cell_type": "code",
   "execution_count": 66,
   "metadata": {},
   "outputs": [],
   "source": [
    "dff.to_csv('predictions.csv',index=False)"
   ]
  },
  {
   "cell_type": "code",
   "execution_count": null,
   "metadata": {},
   "outputs": [],
   "source": []
  }
 ],
 "metadata": {
  "kernelspec": {
   "display_name": "Python 3",
   "language": "python",
   "name": "python3"
  },
  "language_info": {
   "codemirror_mode": {
    "name": "ipython",
    "version": 3
   },
   "file_extension": ".py",
   "mimetype": "text/x-python",
   "name": "python",
   "nbconvert_exporter": "python",
   "pygments_lexer": "ipython3",
   "version": "3.8.5"
  }
 },
 "nbformat": 4,
 "nbformat_minor": 4
}
