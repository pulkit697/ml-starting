{
 "cells": [
  {
   "cell_type": "code",
   "execution_count": 1,
   "metadata": {},
   "outputs": [],
   "source": [
    "import numpy as np\n",
    "import pandas as pd"
   ]
  },
  {
   "cell_type": "code",
   "execution_count": 37,
   "metadata": {},
   "outputs": [],
   "source": [
    "df = pd.read_csv(\"train.csv\")"
   ]
  },
  {
   "cell_type": "code",
   "execution_count": 19,
   "metadata": {},
   "outputs": [],
   "source": [
    "# refining\n",
    "def f1(s):\n",
    "    if s=='Petrol':\n",
    "        return 0\n",
    "    elif s=='Deisel':\n",
    "        return 1\n",
    "    else:\n",
    "        return 2\n",
    "def f2(s):\n",
    "    if s=='Automatic':\n",
    "        return 0\n",
    "    elif s=='Manual':\n",
    "        return 1\n",
    "    else:\n",
    "        return 2\n",
    "def refine(data):\n",
    "    data.drop(columns='model',inplace=True)\n",
    "    data.fuelType=data.fuelType.apply(f1)\n",
    "    data.transmission = data.transmission.apply(f2)\n",
    "    "
   ]
  },
  {
   "cell_type": "code",
   "execution_count": 38,
   "metadata": {},
   "outputs": [
    {
     "name": "stdout",
     "output_type": "stream",
     "text": [
      "      car_id  year  price  transmission  mileage  fuelType  tax    mpg  \\\n",
      "0       7965  2014  11200             0    67068         2  125   57.6   \n",
      "1       7966  2018  27000             0    14827         0  145   42.8   \n",
      "2       7967  2016  16000             0    62794         2  160   51.4   \n",
      "3       7968  2017  12750             0    26676         2  145   72.4   \n",
      "4       7969  2014  14500             0    39554         2  160   50.4   \n",
      "...      ...   ...    ...           ...      ...       ...  ...    ...   \n",
      "8619   16584  2018  13100             0    33372         0  145   58.9   \n",
      "8620   16585  2017  19300             0    32867         2    0  470.8   \n",
      "8621   16586  2017  11400             1    37000         0  125   53.3   \n",
      "8622   16587  2015  13800             0    29867         2   30   65.7   \n",
      "8623   16588  2018  14995             0    13889         0  145   55.4   \n",
      "\n",
      "      engineSize  \n",
      "0            2.0  \n",
      "1            2.0  \n",
      "2            3.0  \n",
      "3            1.5  \n",
      "4            3.0  \n",
      "...          ...  \n",
      "8619         1.5  \n",
      "8620         0.6  \n",
      "8621         1.5  \n",
      "8622         2.0  \n",
      "8623         1.5  \n",
      "\n",
      "[8624 rows x 9 columns]\n",
      "(8624, 9)\n",
      "car_id            int64\n",
      "year              int64\n",
      "price             int64\n",
      "transmission      int64\n",
      "mileage           int64\n",
      "fuelType          int64\n",
      "tax               int64\n",
      "mpg             float64\n",
      "engineSize      float64\n",
      "dtype: object\n"
     ]
    }
   ],
   "source": [
    "refine(df)\n",
    "print(df)\n",
    "print(df.shape)\n",
    "print(df.dtypes)"
   ]
  },
  {
   "cell_type": "code",
   "execution_count": 39,
   "metadata": {},
   "outputs": [
    {
     "name": "stdout",
     "output_type": "stream",
     "text": [
      "0       11200\n",
      "1       27000\n",
      "2       16000\n",
      "3       12750\n",
      "4       14500\n",
      "        ...  \n",
      "8619    13100\n",
      "8620    19300\n",
      "8621    11400\n",
      "8622    13800\n",
      "8623    14995\n",
      "Name: price, Length: 8624, dtype: int64\n",
      "(8624,)\n"
     ]
    }
   ],
   "source": [
    "y = df.price\n",
    "print(y)\n",
    "print(y.shape)"
   ]
  },
  {
   "cell_type": "code",
   "execution_count": 40,
   "metadata": {},
   "outputs": [
    {
     "name": "stdout",
     "output_type": "stream",
     "text": [
      "Index(['car_id', 'year', 'price', 'transmission', 'mileage', 'fuelType', 'tax',\n",
      "       'mpg', 'engineSize'],\n",
      "      dtype='object')\n"
     ]
    }
   ],
   "source": [
    "print(df.columns)"
   ]
  },
  {
   "cell_type": "code",
   "execution_count": 42,
   "metadata": {},
   "outputs": [
    {
     "name": "stdout",
     "output_type": "stream",
     "text": [
      "      car_id  year  transmission  mileage  fuelType  tax    mpg  engineSize\n",
      "0       7965  2014             0    67068         2  125   57.6         2.0\n",
      "1       7966  2018             0    14827         0  145   42.8         2.0\n",
      "2       7967  2016             0    62794         2  160   51.4         3.0\n",
      "3       7968  2017             0    26676         2  145   72.4         1.5\n",
      "4       7969  2014             0    39554         2  160   50.4         3.0\n",
      "...      ...   ...           ...      ...       ...  ...    ...         ...\n",
      "8619   16584  2018             0    33372         0  145   58.9         1.5\n",
      "8620   16585  2017             0    32867         2    0  470.8         0.6\n",
      "8621   16586  2017             1    37000         0  125   53.3         1.5\n",
      "8622   16587  2015             0    29867         2   30   65.7         2.0\n",
      "8623   16588  2018             0    13889         0  145   55.4         1.5\n",
      "\n",
      "[8624 rows x 8 columns]\n",
      "(8624, 8)\n"
     ]
    }
   ],
   "source": [
    "x = df.loc[:,df.columns!='price']\n",
    "print(x)\n",
    "print(x.shape)"
   ]
  },
  {
   "cell_type": "code",
   "execution_count": 45,
   "metadata": {},
   "outputs": [
    {
     "name": "stdout",
     "output_type": "stream",
     "text": [
      "Index(['car_id', 'year', 'transmission', 'mileage', 'fuelType', 'tax', 'mpg',\n",
      "       'engineSize'],\n",
      "      dtype='object')\n",
      "Index(['car_id', 'year', 'transmission', 'mileage', 'fuelType', 'tax', 'mpg',\n",
      "       'engineSize', 'year_year', 'transmission_transmission',\n",
      "       'mileage_mileage', 'fuelType_fuelType', 'tax_tax', 'mpg_mpg',\n",
      "       'engineSize_engineSize'],\n",
      "      dtype='object')\n"
     ]
    }
   ],
   "source": [
    "columnss = x.columns\n",
    "print(columnss)\n",
    "for c in columnss:\n",
    "    if c!='car_id':\n",
    "        s = c+\"_\"+c\n",
    "        x[s]=x[c]**2\n",
    "print(x.columns)"
   ]
  },
  {
   "cell_type": "code",
   "execution_count": 47,
   "metadata": {},
   "outputs": [
    {
     "name": "stdout",
     "output_type": "stream",
     "text": [
      "car_id                         int64\n",
      "year                           int64\n",
      "transmission                   int64\n",
      "mileage                        int64\n",
      "fuelType                       int64\n",
      "tax                            int64\n",
      "mpg                          float64\n",
      "engineSize                   float64\n",
      "year_year                      int64\n",
      "transmission_transmission      int64\n",
      "mileage_mileage                int64\n",
      "fuelType_fuelType              int64\n",
      "tax_tax                        int64\n",
      "mpg_mpg                      float64\n",
      "engineSize_engineSize        float64\n",
      "dtype: object\n"
     ]
    }
   ],
   "source": [
    "print(x.dtypes)"
   ]
  },
  {
   "cell_type": "code",
   "execution_count": 48,
   "metadata": {},
   "outputs": [
    {
     "name": "stdout",
     "output_type": "stream",
     "text": [
      "car_id                         int64\n",
      "year                           int64\n",
      "transmission                   int64\n",
      "mileage                        int64\n",
      "fuelType                       int64\n",
      "tax                            int64\n",
      "mpg                          float64\n",
      "engineSize                   float64\n",
      "year_year                      int64\n",
      "transmission_transmission      int64\n",
      "mileage_mileage                int64\n",
      "fuelType_fuelType              int64\n",
      "tax_tax                        int64\n",
      "mpg_mpg                      float64\n",
      "engineSize_engineSize        float64\n",
      "mpg*engine                   float64\n",
      "dtype: object\n"
     ]
    }
   ],
   "source": [
    "x['mpg*engine'] = x['mpg']*x['engineSize']\n",
    "print(x.dtypes)"
   ]
  },
  {
   "cell_type": "code",
   "execution_count": 52,
   "metadata": {},
   "outputs": [
    {
     "name": "stdout",
     "output_type": "stream",
     "text": [
      "car_id                         int64\n",
      "year                           int64\n",
      "transmission                   int64\n",
      "mileage                        int64\n",
      "fuelType                       int64\n",
      "tax                            int64\n",
      "mpg                          float64\n",
      "engineSize                   float64\n",
      "year_year                      int64\n",
      "transmission_transmission      int64\n",
      "mileage_mileage                int64\n",
      "fuelType_fuelType              int64\n",
      "tax_tax                        int64\n",
      "mpg_mpg                      float64\n",
      "engineSize_engineSize        float64\n",
      "mpg*engine                   float64\n",
      "year^3                         int64\n",
      "year^4                         int64\n",
      "dtype: object\n"
     ]
    }
   ],
   "source": [
    "x['year^3']=x['year']**3\n",
    "x['year^4']=x['year']**4\n",
    "print(x.dtypes)"
   ]
  },
  {
   "cell_type": "code",
   "execution_count": 9,
   "metadata": {},
   "outputs": [],
   "source": [
    "from sklearn import model_selection"
   ]
  },
  {
   "cell_type": "code",
   "execution_count": 53,
   "metadata": {},
   "outputs": [],
   "source": [
    "x1,x2,y1,y2 = model_selection.train_test_split(x,y)"
   ]
  },
  {
   "cell_type": "code",
   "execution_count": 11,
   "metadata": {},
   "outputs": [],
   "source": [
    "from sklearn.linear_model import LinearRegression"
   ]
  },
  {
   "cell_type": "code",
   "execution_count": 54,
   "metadata": {},
   "outputs": [],
   "source": [
    "alg = LinearRegression()"
   ]
  },
  {
   "cell_type": "code",
   "execution_count": 55,
   "metadata": {},
   "outputs": [
    {
     "data": {
      "text/plain": [
       "LinearRegression()"
      ]
     },
     "execution_count": 55,
     "metadata": {},
     "output_type": "execute_result"
    }
   ],
   "source": [
    "alg.fit(x1,y1)"
   ]
  },
  {
   "cell_type": "code",
   "execution_count": 56,
   "metadata": {},
   "outputs": [
    {
     "name": "stdout",
     "output_type": "stream",
     "text": [
      "0.673465498952075\n"
     ]
    }
   ],
   "source": [
    "y_pred_testing = alg.predict(x2)\n",
    "print(alg.score(x2,y2))"
   ]
  }
 ],
 "metadata": {
  "kernelspec": {
   "display_name": "Python 3",
   "language": "python",
   "name": "python3"
  },
  "language_info": {
   "codemirror_mode": {
    "name": "ipython",
    "version": 3
   },
   "file_extension": ".py",
   "mimetype": "text/x-python",
   "name": "python",
   "nbconvert_exporter": "python",
   "pygments_lexer": "ipython3",
   "version": "3.8.5"
  }
 },
 "nbformat": 4,
 "nbformat_minor": 4
}
