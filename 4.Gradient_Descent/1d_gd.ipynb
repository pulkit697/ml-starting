{
 "cells": [
  {
   "cell_type": "code",
   "execution_count": 1,
   "metadata": {},
   "outputs": [],
   "source": [
    "import numpy as np"
   ]
  },
  {
   "cell_type": "code",
   "execution_count": 2,
   "metadata": {},
   "outputs": [],
   "source": [
    "data = np.loadtxt(\"data.csv\",delimiter=',')"
   ]
  },
  {
   "cell_type": "code",
   "execution_count": 7,
   "metadata": {},
   "outputs": [],
   "source": [
    "def cost(points,m,c):\n",
    "    N = len(points)\n",
    "    total=0\n",
    "    for i in range(N):\n",
    "        total+=(1/N)*((points[i,1]-m*points[i,0]-c)**2)\n",
    "    return total"
   ]
  },
  {
   "cell_type": "code",
   "execution_count": 41,
   "metadata": {},
   "outputs": [],
   "source": [
    "def take_one_step_stochalistic(points,m,c,alpha):\n",
    "    N = len(points)\n",
    "    slope_m = 0\n",
    "    slope_c = 0\n",
    "    for i in range(N):\n",
    "        slope_m+= (-2/N)*(points[i,1]-m*points[i,0]-c)*points[i,0]\n",
    "        slope_c+= (-2/N)*(points[i,1]-m*points[i,0]-c)\n",
    "        m,c = (m-alpha*slope_m,c-alpha*slope_c)\n",
    "    return m,c"
   ]
  },
  {
   "cell_type": "code",
   "execution_count": 31,
   "metadata": {},
   "outputs": [],
   "source": [
    "def gradient_descent_stochalistic(points,alpha,iterations):\n",
    "    m=0\n",
    "    c=0\n",
    "    for i in range(iterations):\n",
    "        m,c = take_one_step_stochalistic(points,m,c,alpha)\n",
    "#         print(cost(points,m,c))\n",
    "    return m,c"
   ]
  },
  {
   "cell_type": "code",
   "execution_count": 4,
   "metadata": {},
   "outputs": [],
   "source": [
    "def take_one_step(points,m,c,alpha):\n",
    "    N = len(points)\n",
    "    slope_m = 0\n",
    "    slope_c = 0\n",
    "    for i in range(N):\n",
    "        slope_m+= (-2/N)*(points[i,1]-m*points[i,0]-c)*points[i,0]\n",
    "        slope_c+= (-2/N)*(points[i,1]-m*points[i,0]-c)\n",
    "    return (m-alpha*slope_m,c-alpha*slope_c)"
   ]
  },
  {
   "cell_type": "code",
   "execution_count": 30,
   "metadata": {},
   "outputs": [],
   "source": [
    "def gradient_descent(points,alpha,iterations):\n",
    "    m=0\n",
    "    c=0\n",
    "    for i in range(iterations):\n",
    "        m,c = take_one_step(points,m,c,alpha)\n",
    "#         print(cost(points,m,c))\n",
    "    return m,c"
   ]
  },
  {
   "cell_type": "code",
   "execution_count": 37,
   "metadata": {},
   "outputs": [],
   "source": [
    "def run():\n",
    "#     alpha = 0.001 # this will cause a hell let of errors\n",
    "    alpha = 0.0001\n",
    "    iterations = 1000\n",
    "    m1,c1 = gradient_descent(data,alpha,iterations)\n",
    "    m2,c2 = gradient_descent_stochalistic(data,alpha,iterations)\n",
    "    print(cost(data,m1,c1))\n",
    "    print(cost(data,m2,c2))"
   ]
  },
  {
   "cell_type": "code",
   "execution_count": 42,
   "metadata": {},
   "outputs": [
    {
     "name": "stdout",
     "output_type": "stream",
     "text": [
      "112.61481011613473\n",
      "151.58276483030826\n"
     ]
    }
   ],
   "source": [
    "run()"
   ]
  }
 ],
 "metadata": {
  "kernelspec": {
   "display_name": "Python 3",
   "language": "python",
   "name": "python3"
  },
  "language_info": {
   "codemirror_mode": {
    "name": "ipython",
    "version": 3
   },
   "file_extension": ".py",
   "mimetype": "text/x-python",
   "name": "python",
   "nbconvert_exporter": "python",
   "pygments_lexer": "ipython3",
   "version": "3.8.5"
  }
 },
 "nbformat": 4,
 "nbformat_minor": 4
}
