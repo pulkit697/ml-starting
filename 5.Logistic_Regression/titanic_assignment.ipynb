{
 "cells": [
  {
   "cell_type": "code",
   "execution_count": 6,
   "metadata": {},
   "outputs": [],
   "source": [
    "import numpy as np\n",
    "import pandas as pd\n",
    "from sklearn.linear_model import LogisticRegression"
   ]
  },
  {
   "cell_type": "code",
   "execution_count": 59,
   "metadata": {
    "scrolled": true
   },
   "outputs": [],
   "source": [
    "data = pd.read_csv(\"train.csv\")"
   ]
  },
  {
   "cell_type": "code",
   "execution_count": 60,
   "metadata": {},
   "outputs": [
    {
     "name": "stdout",
     "output_type": "stream",
     "text": [
      "(668, 11)\n"
     ]
    }
   ],
   "source": [
    "print(data.shape)"
   ]
  },
  {
   "cell_type": "code",
   "execution_count": 63,
   "metadata": {},
   "outputs": [
    {
     "name": "stdout",
     "output_type": "stream",
     "text": [
      "['S' 'C' 'Q' nan]\n",
      "Pclass        int64\n",
      "Sex           int64\n",
      "Age         float64\n",
      "Parch         int64\n",
      "Fare        float64\n",
      "Embarked      int64\n",
      "Survived      int64\n",
      "dtype: object\n",
      "     Pclass  Sex       Age  Parch     Fare  Embarked  Survived\n",
      "663       2    1  17.00000      0  10.5000         1         1\n",
      "664       3    0  29.70056      0   7.7500         3         0\n",
      "665       3    0  32.00000      0  56.4958         1         1\n",
      "666       3    1  22.00000      0   9.8375         1         0\n",
      "667       3    1  29.70056      0  15.5000         3         1\n"
     ]
    }
   ],
   "source": [
    "# refining\n",
    "# 1\n",
    "# print(data.dtypes)\n",
    "# print(data.head)\n",
    "data.drop(columns=['Name'],inplace=True)\n",
    "# 2\n",
    "# print(data.dtypes)\n",
    "# print(data.head)\n",
    "\n",
    "def f1(s):\n",
    "    if s == 'male':\n",
    "        return 0\n",
    "    else:\n",
    "        return 1\n",
    "data.Sex = data.Sex.apply(f1)\n",
    "# 3\n",
    "data.drop(columns=['Ticket'],inplace=True)\n",
    "# print(data.dtypes)\n",
    "# print(data.head)\n",
    "# 4\n",
    "data.drop(columns=['SibSp'],inplace=True)\n",
    "# print(data.dtypes)\n",
    "# print(data.head)\n",
    "# 5\n",
    "data.drop(columns=['Cabin'],inplace=True)\n",
    "# print(data.dtypes)\n",
    "# print(data.head)\n",
    "# 6\n",
    "print(pd.unique(data.Embarked))\n",
    "def f2(s):\n",
    "    if s == 'S':\n",
    "        return 1\n",
    "    elif s=='C':\n",
    "        return 2\n",
    "    elif s=='Q':\n",
    "        return 3\n",
    "    else:\n",
    "        return -1\n",
    "data.Embarked = data.Embarked.apply(f2)\n",
    "# print(data.dtypes)\n",
    "# print(data.head)\n",
    "# 7\n",
    "# print(pd.unique(data.Age))\n",
    "# data.Age.fillna(data.Age.mean(),inplace=True)\n",
    "print(data.dtypes)\n",
    "print(data.tail())"
   ]
  },
  {
   "cell_type": "code",
   "execution_count": 64,
   "metadata": {},
   "outputs": [
    {
     "name": "stdout",
     "output_type": "stream",
     "text": [
      "0      1\n",
      "1      0\n",
      "2      0\n",
      "3      0\n",
      "4      0\n",
      "      ..\n",
      "663    1\n",
      "664    0\n",
      "665    1\n",
      "666    0\n",
      "667    1\n",
      "Name: Survived, Length: 668, dtype: int64\n",
      "(668,)\n"
     ]
    }
   ],
   "source": [
    "y = data.Survived\n",
    "print(y)\n",
    "print(y.shape)"
   ]
  },
  {
   "cell_type": "code",
   "execution_count": 65,
   "metadata": {},
   "outputs": [
    {
     "name": "stdout",
     "output_type": "stream",
     "text": [
      "(668, 6)\n",
      "     Pclass  Sex       Age  Parch     Fare  Embarked\n",
      "0         2    1  29.00000      0  26.0000         1\n",
      "1         3    0  29.70056      0   8.0500         1\n",
      "2         2    0  39.00000      0  26.0000         1\n",
      "3         3    1  29.00000      4  21.0750         1\n",
      "4         3    0  25.00000      0   7.0500         1\n",
      "..      ...  ...       ...    ...      ...       ...\n",
      "663       2    1  17.00000      0  10.5000         1\n",
      "664       3    0  29.70056      0   7.7500         3\n",
      "665       3    0  32.00000      0  56.4958         1\n",
      "666       3    1  22.00000      0   9.8375         1\n",
      "667       3    1  29.70056      0  15.5000         3\n",
      "\n",
      "[668 rows x 6 columns]\n"
     ]
    }
   ],
   "source": [
    "x = data.iloc[:,:6]\n",
    "print(x.shape)\n",
    "print(x)"
   ]
  },
  {
   "cell_type": "code",
   "execution_count": 98,
   "metadata": {},
   "outputs": [],
   "source": [
    "alg = LogisticRegression(solver='saga',penalty='elasticnet',l1_ratio=0.3,max_iter=6000)"
   ]
  },
  {
   "cell_type": "code",
   "execution_count": 74,
   "metadata": {},
   "outputs": [],
   "source": [
    "from sklearn import model_selection"
   ]
  },
  {
   "cell_type": "code",
   "execution_count": 75,
   "metadata": {},
   "outputs": [],
   "source": [
    "x1,x2,y1,y2 = model_selection.train_test_split(x,y,test_size=0.3)"
   ]
  },
  {
   "cell_type": "code",
   "execution_count": 99,
   "metadata": {},
   "outputs": [
    {
     "data": {
      "text/plain": [
       "LogisticRegression(l1_ratio=0.3, max_iter=6000, penalty='elasticnet',\n",
       "                   solver='saga')"
      ]
     },
     "execution_count": 99,
     "metadata": {},
     "output_type": "execute_result"
    }
   ],
   "source": [
    "alg.fit(x1,y1)"
   ]
  },
  {
   "cell_type": "code",
   "execution_count": 100,
   "metadata": {},
   "outputs": [],
   "source": [
    "y2_pred = alg.predict(x2)"
   ]
  },
  {
   "cell_type": "code",
   "execution_count": 103,
   "metadata": {},
   "outputs": [
    {
     "name": "stdout",
     "output_type": "stream",
     "text": [
      "0.8159203980099502\n"
     ]
    }
   ],
   "source": [
    "print(alg.score(x2,y2))"
   ]
  },
  {
   "cell_type": "code",
   "execution_count": 105,
   "metadata": {},
   "outputs": [
    {
     "data": {
      "text/plain": [
       "array([[0.45846914, 0.54153086],\n",
       "       [0.73600527, 0.26399473],\n",
       "       [0.15045982, 0.84954018],\n",
       "       [0.72622698, 0.27377302],\n",
       "       [0.89415472, 0.10584528],\n",
       "       [0.39976905, 0.60023095],\n",
       "       [0.4540465 , 0.5459535 ],\n",
       "       [0.40264909, 0.59735091],\n",
       "       [0.58574421, 0.41425579],\n",
       "       [0.48575604, 0.51424396],\n",
       "       [0.57551837, 0.42448163],\n",
       "       [0.23006291, 0.76993709],\n",
       "       [0.47989926, 0.52010074],\n",
       "       [0.69994162, 0.30005838],\n",
       "       [0.60821712, 0.39178288],\n",
       "       [0.25731881, 0.74268119],\n",
       "       [0.37903891, 0.62096109],\n",
       "       [0.82448925, 0.17551075],\n",
       "       [0.12672465, 0.87327535],\n",
       "       [0.68969241, 0.31030759],\n",
       "       [0.42253835, 0.57746165],\n",
       "       [0.78642413, 0.21357587],\n",
       "       [0.74019167, 0.25980833],\n",
       "       [0.69276901, 0.30723099],\n",
       "       [0.39416209, 0.60583791],\n",
       "       [0.7076434 , 0.2923566 ],\n",
       "       [0.51232505, 0.48767495],\n",
       "       [0.80023738, 0.19976262],\n",
       "       [0.75524926, 0.24475074],\n",
       "       [0.45413866, 0.54586134],\n",
       "       [0.7233999 , 0.2766001 ],\n",
       "       [0.78828825, 0.21171175],\n",
       "       [0.51418939, 0.48581061],\n",
       "       [0.79552654, 0.20447346],\n",
       "       [0.19748635, 0.80251365],\n",
       "       [0.44659859, 0.55340141],\n",
       "       [0.48700235, 0.51299765],\n",
       "       [0.42813148, 0.57186852],\n",
       "       [0.30278046, 0.69721954],\n",
       "       [0.74997141, 0.25002859],\n",
       "       [0.69292918, 0.30707082],\n",
       "       [0.42946994, 0.57053006],\n",
       "       [0.28786127, 0.71213873],\n",
       "       [0.38961213, 0.61038787],\n",
       "       [0.74690229, 0.25309771],\n",
       "       [0.82913859, 0.17086141],\n",
       "       [0.43422856, 0.56577144],\n",
       "       [0.38963503, 0.61036497],\n",
       "       [0.29323204, 0.70676796],\n",
       "       [0.43607823, 0.56392177],\n",
       "       [0.83587107, 0.16412893],\n",
       "       [0.77295656, 0.22704344],\n",
       "       [0.78225843, 0.21774157],\n",
       "       [0.84821919, 0.15178081],\n",
       "       [0.79161439, 0.20838561],\n",
       "       [0.80900565, 0.19099435],\n",
       "       [0.37744297, 0.62255703],\n",
       "       [0.82387518, 0.17612482],\n",
       "       [0.81260598, 0.18739402],\n",
       "       [0.81823294, 0.18176706],\n",
       "       [0.38838632, 0.61161368],\n",
       "       [0.80847051, 0.19152949],\n",
       "       [0.08950457, 0.91049543],\n",
       "       [0.75485583, 0.24514417],\n",
       "       [0.68484989, 0.31515011],\n",
       "       [0.81991212, 0.18008788],\n",
       "       [0.76060828, 0.23939172],\n",
       "       [0.80701178, 0.19298822],\n",
       "       [0.8299539 , 0.1700461 ],\n",
       "       [0.79472442, 0.20527558],\n",
       "       [0.81341313, 0.18658687],\n",
       "       [0.26958054, 0.73041946],\n",
       "       [0.79706585, 0.20293415],\n",
       "       [0.77485278, 0.22514722],\n",
       "       [0.81836514, 0.18163486],\n",
       "       [0.83459153, 0.16540847],\n",
       "       [0.789327  , 0.210673  ],\n",
       "       [0.58354691, 0.41645309],\n",
       "       [0.81698866, 0.18301134],\n",
       "       [0.39427935, 0.60572065],\n",
       "       [0.47675655, 0.52324345],\n",
       "       [0.28113564, 0.71886436],\n",
       "       [0.82315955, 0.17684045],\n",
       "       [0.30341635, 0.69658365],\n",
       "       [0.8015744 , 0.1984256 ],\n",
       "       [0.82118913, 0.17881087],\n",
       "       [0.8121087 , 0.1878913 ],\n",
       "       [0.77418775, 0.22581225],\n",
       "       [0.72307205, 0.27692795],\n",
       "       [0.85718973, 0.14281027],\n",
       "       [0.85121255, 0.14878745],\n",
       "       [0.81846865, 0.18153135],\n",
       "       [0.77816139, 0.22183861],\n",
       "       [0.57092784, 0.42907216],\n",
       "       [0.79706585, 0.20293415],\n",
       "       [0.7229806 , 0.2770194 ],\n",
       "       [0.66994294, 0.33005706],\n",
       "       [0.72307205, 0.27692795],\n",
       "       [0.52643333, 0.47356667],\n",
       "       [0.65284936, 0.34715064],\n",
       "       [0.81187638, 0.18812362],\n",
       "       [0.82313504, 0.17686496],\n",
       "       [0.85961042, 0.14038958],\n",
       "       [0.49658745, 0.50341255],\n",
       "       [0.80640499, 0.19359501],\n",
       "       [0.83906572, 0.16093428],\n",
       "       [0.2168534 , 0.7831466 ],\n",
       "       [0.62240733, 0.37759267],\n",
       "       [0.79079742, 0.20920258],\n",
       "       [0.51037099, 0.48962901],\n",
       "       [0.80900565, 0.19099435],\n",
       "       [0.40876885, 0.59123115],\n",
       "       [0.79257616, 0.20742384],\n",
       "       [0.80590563, 0.19409437],\n",
       "       [0.51088085, 0.48911915],\n",
       "       [0.81836514, 0.18163486],\n",
       "       [0.81335464, 0.18664536],\n",
       "       [0.3445605 , 0.6554395 ],\n",
       "       [0.80672354, 0.19327646],\n",
       "       [0.81886332, 0.18113668],\n",
       "       [0.14288645, 0.85711355],\n",
       "       [0.38173115, 0.61826885],\n",
       "       [0.51952083, 0.48047917],\n",
       "       [0.80825096, 0.19174904],\n",
       "       [0.52480627, 0.47519373],\n",
       "       [0.51667888, 0.48332112],\n",
       "       [0.36499724, 0.63500276],\n",
       "       [0.79939897, 0.20060103],\n",
       "       [0.52436007, 0.47563993],\n",
       "       [0.82848596, 0.17151404],\n",
       "       [0.39323527, 0.60676473],\n",
       "       [0.72307205, 0.27692795],\n",
       "       [0.86109146, 0.13890854],\n",
       "       [0.73327243, 0.26672757],\n",
       "       [0.79940285, 0.20059715],\n",
       "       [0.33484628, 0.66515372],\n",
       "       [0.72773933, 0.27226067],\n",
       "       [0.62731297, 0.37268703],\n",
       "       [0.4970775 , 0.5029225 ],\n",
       "       [0.11640147, 0.88359853],\n",
       "       [0.18610786, 0.81389214],\n",
       "       [0.31453433, 0.68546567],\n",
       "       [0.81475478, 0.18524522],\n",
       "       [0.77485899, 0.22514101],\n",
       "       [0.77594452, 0.22405548],\n",
       "       [0.75801794, 0.24198206],\n",
       "       [0.79993632, 0.20006368],\n",
       "       [0.55496414, 0.44503586],\n",
       "       [0.71342408, 0.28657592],\n",
       "       [0.77064193, 0.22935807],\n",
       "       [0.78726969, 0.21273031],\n",
       "       [0.35124773, 0.64875227],\n",
       "       [0.30596027, 0.69403973],\n",
       "       [0.40540598, 0.59459402],\n",
       "       [0.35291443, 0.64708557],\n",
       "       [0.39231019, 0.60768981],\n",
       "       [0.81823294, 0.18176706],\n",
       "       [0.72118553, 0.27881447],\n",
       "       [0.2863654 , 0.7136346 ],\n",
       "       [0.06538317, 0.93461683],\n",
       "       [0.24984719, 0.75015281],\n",
       "       [0.58581488, 0.41418512],\n",
       "       [0.80055979, 0.19944021],\n",
       "       [0.62240733, 0.37759267],\n",
       "       [0.29411051, 0.70588949],\n",
       "       [0.62012233, 0.37987767],\n",
       "       [0.82521336, 0.17478664],\n",
       "       [0.82319446, 0.17680554],\n",
       "       [0.36838686, 0.63161314],\n",
       "       [0.80860761, 0.19139239],\n",
       "       [0.20570852, 0.79429148],\n",
       "       [0.14610604, 0.85389396],\n",
       "       [0.68850877, 0.31149123],\n",
       "       [0.74008925, 0.25991075],\n",
       "       [0.13092556, 0.86907444],\n",
       "       [0.63301079, 0.36698921],\n",
       "       [0.53355329, 0.46644671],\n",
       "       [0.72415399, 0.27584601],\n",
       "       [0.24605631, 0.75394369],\n",
       "       [0.15942674, 0.84057326],\n",
       "       [0.64160568, 0.35839432],\n",
       "       [0.71258734, 0.28741266],\n",
       "       [0.7720298 , 0.2279702 ],\n",
       "       [0.45819822, 0.54180178],\n",
       "       [0.38943498, 0.61056502],\n",
       "       [0.73600527, 0.26399473],\n",
       "       [0.81638397, 0.18361603],\n",
       "       [0.78755187, 0.21244813],\n",
       "       [0.8077893 , 0.1922107 ],\n",
       "       [0.72492195, 0.27507805],\n",
       "       [0.81866133, 0.18133867],\n",
       "       [0.81152002, 0.18847998],\n",
       "       [0.43235799, 0.56764201],\n",
       "       [0.71403546, 0.28596454],\n",
       "       [0.73961259, 0.26038741],\n",
       "       [0.58464584, 0.41535416],\n",
       "       [0.50023397, 0.49976603],\n",
       "       [0.50257872, 0.49742128],\n",
       "       [0.6173192 , 0.3826808 ],\n",
       "       [0.63386032, 0.36613968],\n",
       "       [0.4782618 , 0.5217382 ]])"
      ]
     },
     "execution_count": 105,
     "metadata": {},
     "output_type": "execute_result"
    }
   ],
   "source": [
    "alg.predict_proba(x2)"
   ]
  },
  {
   "cell_type": "code",
   "execution_count": 107,
   "metadata": {},
   "outputs": [
    {
     "name": "stdout",
     "output_type": "stream",
     "text": [
      "[1 0 1 0 0 1 1 1 0 1 0 1 1 0 0 1 1 0 1 0 1 0 0 0 1 0 0 0 0 1 0 0 0 0 1 1 1\n",
      " 1 1 0 0 1 1 1 0 0 1 1 1 1 0 0 0 0 0 0 1 0 0 0 1 0 1 0 0 0 0 0 0 0 0 1 0 0\n",
      " 0 0 0 0 0 1 1 1 0 1 0 0 0 0 0 0 0 0 0 0 0 0 0 0 0 0 0 0 0 1 0 0 1 0 0 0 0\n",
      " 1 0 0 0 0 0 1 0 0 1 1 0 0 0 0 1 0 0 0 1 0 0 0 0 1 0 0 1 1 1 1 0 0 0 0 0 0\n",
      " 0 0 0 1 1 1 1 1 0 0 1 1 1 0 0 0 1 0 0 0 1 0 1 1 0 0 1 0 0 0 1 1 0 0 0 1 1\n",
      " 0 0 0 0 0 0 0 1 0 0 0 0 0 0 0 1]\n"
     ]
    }
   ],
   "source": [
    "print(y2_pred)"
   ]
  },
  {
   "cell_type": "code",
   "execution_count": 108,
   "metadata": {},
   "outputs": [
    {
     "name": "stdout",
     "output_type": "stream",
     "text": [
      "(201,) (201,)\n"
     ]
    }
   ],
   "source": [
    "print(y2.shape,y2_pred.shape)"
   ]
  },
  {
   "cell_type": "code",
   "execution_count": 109,
   "metadata": {},
   "outputs": [],
   "source": [
    "temp = np.arange(0,201,1)"
   ]
  },
  {
   "cell_type": "code",
   "execution_count": 119,
   "metadata": {},
   "outputs": [
    {
     "data": {
      "image/png": "[encoded data removed]",
      "text/plain": [
       "<Figure size 1440x288 with 1 Axes>"
      ]
     },
     "metadata": {
      "needs_background": "light"
     },
     "output_type": "display_data"
    }
   ],
   "source": [
    "import matplotlib.pyplot as plt\n",
    "plt.figure().set_figwidth(20)\n",
    "plt.scatter(temp,y2_pred,color='blue')\n",
    "plt.scatter(temp,y2,color='green')\n",
    "plt.show()"
   ]
  },
  {
   "cell_type": "code",
   "execution_count": 120,
   "metadata": {},
   "outputs": [],
   "source": [
    "data_2 = pd.read_csv(\"test.csv\")"
   ]
  },
  {
   "cell_type": "code",
   "execution_count": 124,
   "metadata": {},
   "outputs": [
    {
     "name": "stdout",
     "output_type": "stream",
     "text": [
      "Index(['Pclass', 'Sex', 'Age', 'Parch', 'Fare', 'Embarked'], dtype='object')\n"
     ]
    },
    {
     "ename": "KeyError",
     "evalue": "\"['Name' 'SibSp' 'Cabin' 'Ticket'] not found in axis\"",
     "output_type": "error",
     "traceback": [
      "\u001b[1;31m---------------------------------------------------------------------------\u001b[0m",
      "\u001b[1;31mKeyError\u001b[0m                                  Traceback (most recent call last)",
      "\u001b[1;32m<ipython-input-124-5a42d3431e80>\u001b[0m in \u001b[0;36m<module>\u001b[1;34m\u001b[0m\n\u001b[0;32m      1\u001b[0m \u001b[1;31m# refining\u001b[0m\u001b[1;33m\u001b[0m\u001b[1;33m\u001b[0m\u001b[1;33m\u001b[0m\u001b[0m\n\u001b[0;32m      2\u001b[0m \u001b[0mprint\u001b[0m\u001b[1;33m(\u001b[0m\u001b[0mdata_2\u001b[0m\u001b[1;33m.\u001b[0m\u001b[0mcolumns\u001b[0m\u001b[1;33m)\u001b[0m\u001b[1;33m\u001b[0m\u001b[1;33m\u001b[0m\u001b[0m\n\u001b[1;32m----> 3\u001b[1;33m \u001b[0mdata_2\u001b[0m\u001b[1;33m.\u001b[0m\u001b[0mdrop\u001b[0m\u001b[1;33m(\u001b[0m\u001b[0mcolumns\u001b[0m\u001b[1;33m=\u001b[0m\u001b[1;33m[\u001b[0m\u001b[1;34m'Name'\u001b[0m\u001b[1;33m,\u001b[0m\u001b[1;34m'SibSp'\u001b[0m\u001b[1;33m,\u001b[0m\u001b[1;34m'Cabin'\u001b[0m\u001b[1;33m,\u001b[0m\u001b[1;34m'Ticket'\u001b[0m\u001b[1;33m]\u001b[0m\u001b[1;33m,\u001b[0m\u001b[0minplace\u001b[0m\u001b[1;33m=\u001b[0m\u001b[1;32mTrue\u001b[0m\u001b[1;33m)\u001b[0m\u001b[1;33m\u001b[0m\u001b[1;33m\u001b[0m\u001b[0m\n\u001b[0m\u001b[0;32m      4\u001b[0m \u001b[0mdata_2\u001b[0m\u001b[1;33m.\u001b[0m\u001b[0mAge\u001b[0m\u001b[1;33m.\u001b[0m\u001b[0mfillna\u001b[0m\u001b[1;33m(\u001b[0m\u001b[0mdata_2\u001b[0m\u001b[1;33m.\u001b[0m\u001b[0mAge\u001b[0m\u001b[1;33m.\u001b[0m\u001b[0mmean\u001b[0m\u001b[1;33m(\u001b[0m\u001b[1;33m)\u001b[0m\u001b[1;33m,\u001b[0m\u001b[0minplace\u001b[0m\u001b[1;33m=\u001b[0m\u001b[1;32mTrue\u001b[0m\u001b[1;33m)\u001b[0m\u001b[1;33m\u001b[0m\u001b[1;33m\u001b[0m\u001b[0m\n\u001b[0;32m      5\u001b[0m \u001b[0mdata_2\u001b[0m\u001b[1;33m.\u001b[0m\u001b[0mEmbarked\u001b[0m\u001b[1;33m=\u001b[0m\u001b[0mdata_2\u001b[0m\u001b[1;33m.\u001b[0m\u001b[0mEmbarked\u001b[0m\u001b[1;33m.\u001b[0m\u001b[0mapply\u001b[0m\u001b[1;33m(\u001b[0m\u001b[0mf2\u001b[0m\u001b[1;33m)\u001b[0m\u001b[1;33m\u001b[0m\u001b[1;33m\u001b[0m\u001b[0m\n",
      "\u001b[1;32mF:\\Anaconda\\lib\\site-packages\\pandas\\core\\frame.py\u001b[0m in \u001b[0;36mdrop\u001b[1;34m(self, labels, axis, index, columns, level, inplace, errors)\u001b[0m\n\u001b[0;32m   4161\u001b[0m                 \u001b[0mweight\u001b[0m  \u001b[1;36m1.0\u001b[0m     \u001b[1;36m0.8\u001b[0m\u001b[1;33m\u001b[0m\u001b[1;33m\u001b[0m\u001b[0m\n\u001b[0;32m   4162\u001b[0m         \"\"\"\n\u001b[1;32m-> 4163\u001b[1;33m         return super().drop(\n\u001b[0m\u001b[0;32m   4164\u001b[0m             \u001b[0mlabels\u001b[0m\u001b[1;33m=\u001b[0m\u001b[0mlabels\u001b[0m\u001b[1;33m,\u001b[0m\u001b[1;33m\u001b[0m\u001b[1;33m\u001b[0m\u001b[0m\n\u001b[0;32m   4165\u001b[0m             \u001b[0maxis\u001b[0m\u001b[1;33m=\u001b[0m\u001b[0maxis\u001b[0m\u001b[1;33m,\u001b[0m\u001b[1;33m\u001b[0m\u001b[1;33m\u001b[0m\u001b[0m\n",
      "\u001b[1;32mF:\\Anaconda\\lib\\site-packages\\pandas\\core\\generic.py\u001b[0m in \u001b[0;36mdrop\u001b[1;34m(self, labels, axis, index, columns, level, inplace, errors)\u001b[0m\n\u001b[0;32m   3885\u001b[0m         \u001b[1;32mfor\u001b[0m \u001b[0maxis\u001b[0m\u001b[1;33m,\u001b[0m \u001b[0mlabels\u001b[0m \u001b[1;32min\u001b[0m \u001b[0maxes\u001b[0m\u001b[1;33m.\u001b[0m\u001b[0mitems\u001b[0m\u001b[1;33m(\u001b[0m\u001b[1;33m)\u001b[0m\u001b[1;33m:\u001b[0m\u001b[1;33m\u001b[0m\u001b[1;33m\u001b[0m\u001b[0m\n\u001b[0;32m   3886\u001b[0m             \u001b[1;32mif\u001b[0m \u001b[0mlabels\u001b[0m \u001b[1;32mis\u001b[0m \u001b[1;32mnot\u001b[0m \u001b[1;32mNone\u001b[0m\u001b[1;33m:\u001b[0m\u001b[1;33m\u001b[0m\u001b[1;33m\u001b[0m\u001b[0m\n\u001b[1;32m-> 3887\u001b[1;33m                 \u001b[0mobj\u001b[0m \u001b[1;33m=\u001b[0m \u001b[0mobj\u001b[0m\u001b[1;33m.\u001b[0m\u001b[0m_drop_axis\u001b[0m\u001b[1;33m(\u001b[0m\u001b[0mlabels\u001b[0m\u001b[1;33m,\u001b[0m \u001b[0maxis\u001b[0m\u001b[1;33m,\u001b[0m \u001b[0mlevel\u001b[0m\u001b[1;33m=\u001b[0m\u001b[0mlevel\u001b[0m\u001b[1;33m,\u001b[0m \u001b[0merrors\u001b[0m\u001b[1;33m=\u001b[0m\u001b[0merrors\u001b[0m\u001b[1;33m)\u001b[0m\u001b[1;33m\u001b[0m\u001b[1;33m\u001b[0m\u001b[0m\n\u001b[0m\u001b[0;32m   3888\u001b[0m \u001b[1;33m\u001b[0m\u001b[0m\n\u001b[0;32m   3889\u001b[0m         \u001b[1;32mif\u001b[0m \u001b[0minplace\u001b[0m\u001b[1;33m:\u001b[0m\u001b[1;33m\u001b[0m\u001b[1;33m\u001b[0m\u001b[0m\n",
      "\u001b[1;32mF:\\Anaconda\\lib\\site-packages\\pandas\\core\\generic.py\u001b[0m in \u001b[0;36m_drop_axis\u001b[1;34m(self, labels, axis, level, errors)\u001b[0m\n\u001b[0;32m   3919\u001b[0m                 \u001b[0mnew_axis\u001b[0m \u001b[1;33m=\u001b[0m \u001b[0maxis\u001b[0m\u001b[1;33m.\u001b[0m\u001b[0mdrop\u001b[0m\u001b[1;33m(\u001b[0m\u001b[0mlabels\u001b[0m\u001b[1;33m,\u001b[0m \u001b[0mlevel\u001b[0m\u001b[1;33m=\u001b[0m\u001b[0mlevel\u001b[0m\u001b[1;33m,\u001b[0m \u001b[0merrors\u001b[0m\u001b[1;33m=\u001b[0m\u001b[0merrors\u001b[0m\u001b[1;33m)\u001b[0m\u001b[1;33m\u001b[0m\u001b[1;33m\u001b[0m\u001b[0m\n\u001b[0;32m   3920\u001b[0m             \u001b[1;32melse\u001b[0m\u001b[1;33m:\u001b[0m\u001b[1;33m\u001b[0m\u001b[1;33m\u001b[0m\u001b[0m\n\u001b[1;32m-> 3921\u001b[1;33m                 \u001b[0mnew_axis\u001b[0m \u001b[1;33m=\u001b[0m \u001b[0maxis\u001b[0m\u001b[1;33m.\u001b[0m\u001b[0mdrop\u001b[0m\u001b[1;33m(\u001b[0m\u001b[0mlabels\u001b[0m\u001b[1;33m,\u001b[0m \u001b[0merrors\u001b[0m\u001b[1;33m=\u001b[0m\u001b[0merrors\u001b[0m\u001b[1;33m)\u001b[0m\u001b[1;33m\u001b[0m\u001b[1;33m\u001b[0m\u001b[0m\n\u001b[0m\u001b[0;32m   3922\u001b[0m             \u001b[0mresult\u001b[0m \u001b[1;33m=\u001b[0m \u001b[0mself\u001b[0m\u001b[1;33m.\u001b[0m\u001b[0mreindex\u001b[0m\u001b[1;33m(\u001b[0m\u001b[1;33m**\u001b[0m\u001b[1;33m{\u001b[0m\u001b[0maxis_name\u001b[0m\u001b[1;33m:\u001b[0m \u001b[0mnew_axis\u001b[0m\u001b[1;33m}\u001b[0m\u001b[1;33m)\u001b[0m\u001b[1;33m\u001b[0m\u001b[1;33m\u001b[0m\u001b[0m\n\u001b[0;32m   3923\u001b[0m \u001b[1;33m\u001b[0m\u001b[0m\n",
      "\u001b[1;32mF:\\Anaconda\\lib\\site-packages\\pandas\\core\\indexes\\base.py\u001b[0m in \u001b[0;36mdrop\u001b[1;34m(self, labels, errors)\u001b[0m\n\u001b[0;32m   5280\u001b[0m         \u001b[1;32mif\u001b[0m \u001b[0mmask\u001b[0m\u001b[1;33m.\u001b[0m\u001b[0many\u001b[0m\u001b[1;33m(\u001b[0m\u001b[1;33m)\u001b[0m\u001b[1;33m:\u001b[0m\u001b[1;33m\u001b[0m\u001b[1;33m\u001b[0m\u001b[0m\n\u001b[0;32m   5281\u001b[0m             \u001b[1;32mif\u001b[0m \u001b[0merrors\u001b[0m \u001b[1;33m!=\u001b[0m \u001b[1;34m\"ignore\"\u001b[0m\u001b[1;33m:\u001b[0m\u001b[1;33m\u001b[0m\u001b[1;33m\u001b[0m\u001b[0m\n\u001b[1;32m-> 5282\u001b[1;33m                 \u001b[1;32mraise\u001b[0m \u001b[0mKeyError\u001b[0m\u001b[1;33m(\u001b[0m\u001b[1;34mf\"{labels[mask]} not found in axis\"\u001b[0m\u001b[1;33m)\u001b[0m\u001b[1;33m\u001b[0m\u001b[1;33m\u001b[0m\u001b[0m\n\u001b[0m\u001b[0;32m   5283\u001b[0m             \u001b[0mindexer\u001b[0m \u001b[1;33m=\u001b[0m \u001b[0mindexer\u001b[0m\u001b[1;33m[\u001b[0m\u001b[1;33m~\u001b[0m\u001b[0mmask\u001b[0m\u001b[1;33m]\u001b[0m\u001b[1;33m\u001b[0m\u001b[1;33m\u001b[0m\u001b[0m\n\u001b[0;32m   5284\u001b[0m         \u001b[1;32mreturn\u001b[0m \u001b[0mself\u001b[0m\u001b[1;33m.\u001b[0m\u001b[0mdelete\u001b[0m\u001b[1;33m(\u001b[0m\u001b[0mindexer\u001b[0m\u001b[1;33m)\u001b[0m\u001b[1;33m\u001b[0m\u001b[1;33m\u001b[0m\u001b[0m\n",
      "\u001b[1;31mKeyError\u001b[0m: \"['Name' 'SibSp' 'Cabin' 'Ticket'] not found in axis\""
     ]
    }
   ],
   "source": [
    "# refining\n",
    "print(data_2.columns)\n",
    "data_2.drop(columns=['Name','SibSp','Cabin','Ticket'],inplace=True)\n",
    "data_2.Age.fillna(data_2.Age.mean(),inplace=True)\n",
    "data_2.Embarked=data_2.Embarked.apply(f2)\n",
    "data_2.Sex = data_2.Sex.apply(f1)"
   ]
  },
  {
   "cell_type": "code",
   "execution_count": 126,
   "metadata": {},
   "outputs": [
    {
     "name": "stdout",
     "output_type": "stream",
     "text": [
      "Index(['Pclass', 'Sex', 'Age', 'Parch', 'Fare', 'Embarked'], dtype='object')\n",
      "Pclass        int64\n",
      "Sex           int64\n",
      "Age         float64\n",
      "Parch         int64\n",
      "Fare        float64\n",
      "Embarked      int64\n",
      "dtype: object\n"
     ]
    }
   ],
   "source": [
    "print(data_2.columns)\n",
    "print(data_2.dtypes)"
   ]
  },
  {
   "cell_type": "code",
   "execution_count": 127,
   "metadata": {},
   "outputs": [],
   "source": [
    "y_test_pred = alg.predict(data_2)"
   ]
  },
  {
   "cell_type": "code",
   "execution_count": 128,
   "metadata": {},
   "outputs": [
    {
     "name": "stdout",
     "output_type": "stream",
     "text": [
      "[0 1 0 1 0 0 0 0 1 0 1 0 1 0 0 0 0 0 0 1 1 0 1 1 0 0 0 0 1 1 0 0 0 0 0 1 1\n",
      " 0 0 0 1 0 0 0 1 1 0 1 0 0 0 1 1 1 0 0 0 0 0 0 0 0 1 1 1 0 0 1 1 1 0 0 0 0\n",
      " 0 1 1 0 0 0 0 1 0 0 0 1 1 1 0 0 0 0 0 0 0 0 0 0 0 1 1 0 1 0 1 1 0 0 0 0 0\n",
      " 1 1 0 1 0 0 1 0 0 0 0 0 0 0 0 0 0 0 0 0 0 0 0 0 0 1 0 1 0 0 0 0 0 0 0 0 0\n",
      " 1 1 1 0 1 0 1 0 0 1 0 0 0 1 1 1 1 0 0 0 1 1 1 1 0 0 1 0 0 0 0 1 0 0 0 1 1\n",
      " 0 0 0 1 0 0 0 1 0 0 0 1 0 1 1 0 0 0 0 0 0 0 0 1 1 0 1 0 0 1 1 0 0 0 0 1 0\n",
      " 0]\n"
     ]
    }
   ],
   "source": [
    "print(y_test_pred)"
   ]
  },
  {
   "cell_type": "code",
   "execution_count": 129,
   "metadata": {},
   "outputs": [
    {
     "ename": "AttributeError",
     "evalue": "module 'pandas' has no attribute 'write_csv'",
     "output_type": "error",
     "traceback": [
      "\u001b[1;31m---------------------------------------------------------------------------\u001b[0m",
      "\u001b[1;31mAttributeError\u001b[0m                            Traceback (most recent call last)",
      "\u001b[1;32m<ipython-input-129-123437df2028>\u001b[0m in \u001b[0;36m<module>\u001b[1;34m\u001b[0m\n\u001b[1;32m----> 1\u001b[1;33m \u001b[0mpd\u001b[0m\u001b[1;33m.\u001b[0m\u001b[0mwrite_csv\u001b[0m\u001b[1;33m(\u001b[0m\u001b[1;34m\"predictions.csv\"\u001b[0m\u001b[1;33m)\u001b[0m\u001b[1;33m\u001b[0m\u001b[1;33m\u001b[0m\u001b[0m\n\u001b[0m",
      "\u001b[1;32mF:\\Anaconda\\lib\\site-packages\\pandas\\__init__.py\u001b[0m in \u001b[0;36m__getattr__\u001b[1;34m(name)\u001b[0m\n\u001b[0;32m    256\u001b[0m             \u001b[1;32mreturn\u001b[0m \u001b[0m_SparseArray\u001b[0m\u001b[1;33m\u001b[0m\u001b[1;33m\u001b[0m\u001b[0m\n\u001b[0;32m    257\u001b[0m \u001b[1;33m\u001b[0m\u001b[0m\n\u001b[1;32m--> 258\u001b[1;33m         \u001b[1;32mraise\u001b[0m \u001b[0mAttributeError\u001b[0m\u001b[1;33m(\u001b[0m\u001b[1;34mf\"module 'pandas' has no attribute '{name}'\"\u001b[0m\u001b[1;33m)\u001b[0m\u001b[1;33m\u001b[0m\u001b[1;33m\u001b[0m\u001b[0m\n\u001b[0m\u001b[0;32m    259\u001b[0m \u001b[1;33m\u001b[0m\u001b[0m\n\u001b[0;32m    260\u001b[0m \u001b[1;33m\u001b[0m\u001b[0m\n",
      "\u001b[1;31mAttributeError\u001b[0m: module 'pandas' has no attribute 'write_csv'"
     ]
    }
   ],
   "source": [
    "pd.write_csv(\"predictions.csv\")"
   ]
  },
  {
   "cell_type": "code",
   "execution_count": null,
   "metadata": {},
   "outputs": [],
   "source": []
  }
 ],
 "metadata": {
  "kernelspec": {
   "display_name": "Python 3",
   "language": "python",
   "name": "python3"
  },
  "language_info": {
   "codemirror_mode": {
    "name": "ipython",
    "version": 3
   },
   "file_extension": ".py",
   "mimetype": "text/x-python",
   "name": "python",
   "nbconvert_exporter": "python",
   "pygments_lexer": "ipython3",
   "version": "3.8.5"
  }
 },
 "nbformat": 4,
 "nbformat_minor": 4
}
