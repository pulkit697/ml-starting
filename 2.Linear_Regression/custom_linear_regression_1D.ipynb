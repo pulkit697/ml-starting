{
 "cells": [
  {
   "cell_type": "code",
   "execution_count": null,
   "metadata": {},
   "outputs": [],
   "source": [
    "# This is a implementation just one 1 dimensional input"
   ]
  },
  {
   "cell_type": "code",
   "execution_count": 1,
   "metadata": {},
   "outputs": [],
   "source": [
    "from sklearn import model_selection\n",
    "import numpy as np"
   ]
  },
  {
   "cell_type": "code",
   "execution_count": 3,
   "metadata": {},
   "outputs": [],
   "source": [
    "data = np.loadtxt(\"data.csv\",delimiter=\",\")"
   ]
  },
  {
   "cell_type": "code",
   "execution_count": 4,
   "metadata": {},
   "outputs": [],
   "source": [
    "x = data[:,0]\n",
    "y = data[:,1]"
   ]
  },
  {
   "cell_type": "code",
   "execution_count": 6,
   "metadata": {},
   "outputs": [],
   "source": [
    "x1,x2,y1,y2 = model_selection.train_test_split(x,y,test_size=0.3)"
   ]
  },
  {
   "cell_type": "code",
   "execution_count": 7,
   "metadata": {},
   "outputs": [],
   "source": [
    "def fit(_x,_y):\n",
    "    m = ((_x*_y).mean() - _x.mean()*_y.mean())/((_x*_x).mean()-((_x.mean())**2))\n",
    "    c = _y.mean() - m*_x.mean()\n",
    "    return m,c\n",
    "m,c = fit(x1,y1)"
   ]
  },
  {
   "cell_type": "code",
   "execution_count": 8,
   "metadata": {},
   "outputs": [],
   "source": [
    "def predict(_x,_m,_c):\n",
    "    _y = _m*_x+_c\n",
    "    return _y\n",
    "y_pred = predict(x2,m,c)"
   ]
  },
  {
   "cell_type": "code",
   "execution_count": 9,
   "metadata": {},
   "outputs": [],
   "source": [
    "import matplotlib.pyplot as plt"
   ]
  },
  {
   "cell_type": "code",
   "execution_count": 13,
   "metadata": {},
   "outputs": [
    {
     "data": {
      "image/png": "[encoded data removed]",
      "text/plain": [
       "<Figure size 432x288 with 1 Axes>"
      ]
     },
     "metadata": {
      "needs_background": "light"
     },
     "output_type": "display_data"
    }
   ],
   "source": [
    "plt.scatter(x2,y2,color='red')\n",
    "# plt.scatter(x1,y1,color='green')\n",
    "plt.plot(x2,y_pred,color='blue')\n",
    "plt.show()"
   ]
  },
  {
   "cell_type": "code",
   "execution_count": 18,
   "metadata": {},
   "outputs": [],
   "source": [
    "def cd(_y_pred,_y):\n",
    "    u = ((_y-_y_pred)**2).sum()\n",
    "    v = ((_y-_y.mean())**2).sum()\n",
    "    return 1-(u/v)\n",
    "coeff_of_determination = cd(y_pred,y2)"
   ]
  },
  {
   "cell_type": "code",
   "execution_count": 23,
   "metadata": {},
   "outputs": [],
   "source": [
    "def cost(_y,_y_pred):\n",
    "    return ((_y-_y_pred)**2).mean()\n",
    "mCost = cost(y2,y_pred)"
   ]
  },
  {
   "cell_type": "code",
   "execution_count": 24,
   "metadata": {},
   "outputs": [
    {
     "name": "stdout",
     "output_type": "stream",
     "text": [
      "coefficient of determination is:  0.5064273426562954\n",
      "cost is:  166.95658460553705\n"
     ]
    }
   ],
   "source": [
    "print(\"coefficient of determination is: \",coeff_of_determination)\n",
    "print(\"cost is: \",mCost)"
   ]
  },
  {
   "cell_type": "code",
   "execution_count": 25,
   "metadata": {},
   "outputs": [
    {
     "name": "stdout",
     "output_type": "stream",
     "text": [
      "0.6225851780784166\n",
      "88.70891493388179\n"
     ]
    }
   ],
   "source": [
    "# checking same for the train data\n",
    "y_pred_train = predict(x1,m,c)\n",
    "print(cd(y_pred_train,y1))\n",
    "print(cost(y1,y_pred_train))"
   ]
  },
  {
   "cell_type": "code",
   "execution_count": 30,
   "metadata": {},
   "outputs": [],
   "source": [
    "# comparing with inuilt library for exact same data\n",
    "from sklearn.linear_model import LinearRegression\n",
    "alg = LinearRegression()\n",
    "x1_sk = x1.reshape(-1,1)\n",
    "x2_sk = x2.reshape(-1,1)\n",
    "alg.fit(x1_sk,y1)\n",
    "y_pred_sk = alg.predict(x2_sk)"
   ]
  },
  {
   "cell_type": "code",
   "execution_count": 33,
   "metadata": {},
   "outputs": [
    {
     "data": {
      "image/png": "[encoded data removed]",
      "text/plain": [
       "<Figure size 432x288 with 1 Axes>"
      ]
     },
     "metadata": {
      "needs_background": "light"
     },
     "output_type": "display_data"
    }
   ],
   "source": [
    "plt.scatter(x2,y2,color='red')\n",
    "plt.plot(x2,y_pred_sk,color='green')\n",
    "plt.plot(x2,y_pred,color='blue')\n",
    "plt.show()\n",
    "# plot of both lines are perfectly overlapping on each other,\n",
    "# that means, internally sklearn is applying same logic as we did 🤩"
   ]
  },
  {
   "cell_type": "code",
   "execution_count": null,
   "metadata": {},
   "outputs": [],
   "source": []
  },
  {
   "cell_type": "code",
   "execution_count": null,
   "metadata": {},
   "outputs": [],
   "source": []
  }
 ],
 "metadata": {
  "kernelspec": {
   "display_name": "Python 3",
   "language": "python",
   "name": "python3"
  },
  "language_info": {
   "codemirror_mode": {
    "name": "ipython",
    "version": 3
   },
   "file_extension": ".py",
   "mimetype": "text/x-python",
   "name": "python",
   "nbconvert_exporter": "python",
   "pygments_lexer": "ipython3",
   "version": "3.8.5"
  }
 },
 "nbformat": 4,
 "nbformat_minor": 4
}
