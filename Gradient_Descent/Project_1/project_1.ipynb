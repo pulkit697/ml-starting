{
 "cells": [
  {
   "cell_type": "code",
   "execution_count": 67,
   "metadata": {},
   "outputs": [],
   "source": [
    "import numpy as np\n",
    "from sklearn import model_selection"
   ]
  },
  {
   "cell_type": "code",
   "execution_count": 68,
   "metadata": {},
   "outputs": [],
   "source": [
    "data = np.loadtxt(\"test.csv\",delimiter=',')"
   ]
  },
  {
   "cell_type": "code",
   "execution_count": 69,
   "metadata": {},
   "outputs": [
    {
     "name": "stdout",
     "output_type": "stream",
     "text": [
      "[ 2.91816626 -0.48772236  1.01599907 -0.27259857  0.36544404 -1.60934343\n",
      "  1.11749449 -1.04849446  1.66124525  1.53092646  0.80657583 -1.59755122]\n",
      "1.04106182\n",
      "[ 2.91816626 -0.48772236  1.01599907 -0.27259857  0.36544404 -1.60934343\n",
      "  1.11749449 -1.04849446  1.66124525  1.53092646  0.80657583 -1.59755122\n",
      "  1.        ]\n"
     ]
    }
   ],
   "source": [
    "x = data[:,:M-1]\n",
    "y = data[:,M-1]\n",
    "print(x[0])\n",
    "print(y[0])\n",
    "z = np.ones((N,))\n",
    "x = np.c_[x,z]\n",
    "print(x[0])"
   ]
  },
  {
   "cell_type": "code",
   "execution_count": 70,
   "metadata": {},
   "outputs": [],
   "source": [
    "x_train,x_test,y_train,y_test = model_selection.train_test_split(x,y,test_size=0.3)"
   ]
  },
  {
   "cell_type": "code",
   "execution_count": 71,
   "metadata": {},
   "outputs": [],
   "source": [
    "def step_gd(x,y,m,alpha):\n",
    "    M = len(x[0])\n",
    "    N = len(x)\n",
    "    slope = np.zeros((M,))\n",
    "    for j in range(M):\n",
    "        for i in range(N):\n",
    "#             print(y[i])\n",
    "            temp=y[i]\n",
    "            for k in range(M):\n",
    "                temp-=m[k]*x[i,k]\n",
    "            temp*=x[i,j]\n",
    "            temp*=(-2/N)\n",
    "#             print(temp)\n",
    "            slope[j]+=temp\n",
    "    for j in range(M):\n",
    "        m[j]-=alpha*slope[j]\n",
    "    return m"
   ]
  },
  {
   "cell_type": "code",
   "execution_count": 72,
   "metadata": {},
   "outputs": [],
   "source": [
    "def gradient_descent(x,y):\n",
    "    alpha = 0.001\n",
    "    iterations = 100\n",
    "    M = len(x[0])\n",
    "    m = np.zeros((M,))\n",
    "    for i in range(iterations):\n",
    "        m = step_gd(x,y,m,alpha)\n",
    "    return m"
   ]
  },
  {
   "cell_type": "code",
   "execution_count": 73,
   "metadata": {},
   "outputs": [],
   "source": [
    "def run():\n",
    "    M = len(x[0])\n",
    "    N = len(x)\n",
    "    return gradient_descent(x_train,y_train)"
   ]
  },
  {
   "cell_type": "code",
   "execution_count": 74,
   "metadata": {},
   "outputs": [],
   "source": [
    "coeff = run()"
   ]
  },
  {
   "cell_type": "code",
   "execution_count": 75,
   "metadata": {},
   "outputs": [],
   "source": [
    "def predict(_x):\n",
    "    M = len(_x[0])\n",
    "    N = len(_x)\n",
    "    pred = np.zeros((N,))\n",
    "    for i in range(N):\n",
    "        for j in range(M):\n",
    "            pred[i]+=coeff[j]*_x[i,j]\n",
    "    return pred"
   ]
  },
  {
   "cell_type": "code",
   "execution_count": 76,
   "metadata": {},
   "outputs": [
    {
     "name": "stdout",
     "output_type": "stream",
     "text": [
      "[-0.07653592 -0.29079636 -0.10721516  0.32374357 -0.29400498 -0.25050737\n",
      "  0.06996621 -0.22443229  1.02013975 -0.93150171 -0.46822338 -0.17172293\n",
      " -0.34127716 -0.39801666  0.7452162   0.04761037 -0.55189601  0.9751987\n",
      "  0.68544346 -0.17455359 -0.43783948 -0.03317915  0.4209956  -0.43426844\n",
      " -0.28534406  0.17998647  0.58484737 -0.92916278 -0.90183726 -0.42873502\n",
      "  0.08181593 -0.25475161 -0.2537792  -0.02549915 -0.14019923  0.00448938\n",
      " -0.29197121  0.08901543 -0.7557427 ]\n"
     ]
    }
   ],
   "source": [
    "y_pred = predict(x_test)\n",
    "print(y_pred)"
   ]
  },
  {
   "cell_type": "code",
   "execution_count": 77,
   "metadata": {},
   "outputs": [],
   "source": [
    "np.savetxt(\"predictions.csv\",y_pred,delimiter=',')"
   ]
  },
  {
   "cell_type": "code",
   "execution_count": null,
   "metadata": {},
   "outputs": [],
   "source": []
  }
 ],
 "metadata": {
  "kernelspec": {
   "display_name": "Python 3",
   "language": "python",
   "name": "python3"
  },
  "language_info": {
   "codemirror_mode": {
    "name": "ipython",
    "version": 3
   },
   "file_extension": ".py",
   "mimetype": "text/x-python",
   "name": "python",
   "nbconvert_exporter": "python",
   "pygments_lexer": "ipython3",
   "version": "3.8.5"
  }
 },
 "nbformat": 4,
 "nbformat_minor": 4
}
