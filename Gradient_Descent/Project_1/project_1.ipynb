{
 "cells": [
  {
   "cell_type": "code",
   "execution_count": 128,
   "metadata": {},
   "outputs": [],
   "source": [
    "import numpy as np\n",
    "from sklearn import model_selection"
   ]
  },
  {
   "cell_type": "code",
   "execution_count": 129,
   "metadata": {},
   "outputs": [],
   "source": [
    "data = np.loadtxt(\"train.csv\",delimiter=',')"
   ]
  },
  {
   "cell_type": "code",
   "execution_count": 80,
   "metadata": {},
   "outputs": [
    {
     "name": "stdout",
     "output_type": "stream",
     "text": [
      "[-0.40784991 -0.48772236 -1.2660231  -0.27259857 -0.57613394  1.23997392\n",
      "  0.84012202 -0.52026428 -0.75292215 -1.27835435 -0.30309415  0.41057102\n",
      " -1.09799011]\n",
      "37.9\n",
      "[-0.40784991 -0.48772236 -1.2660231  -0.27259857 -0.57613394  1.23997392\n",
      "  0.84012202 -0.52026428 -0.75292215 -1.27835435 -0.30309415  0.41057102\n",
      " -1.09799011  1.        ]\n"
     ]
    }
   ],
   "source": [
    "# whole data\n",
    "N = len(data)\n",
    "M = len(data[0])\n",
    "x = data[:,:M-1]\n",
    "y = data[:,M-1]\n",
    "print(x[0])\n",
    "print(y[0])\n",
    "z = np.ones((N,))\n",
    "x = np.c_[x,z]\n",
    "print(x[0])"
   ]
  },
  {
   "cell_type": "code",
   "execution_count": 81,
   "metadata": {},
   "outputs": [],
   "source": [
    "x_train,x_test,y_train,y_test = model_selection.train_test_split(x,y,test_size=0.3)"
   ]
  },
  {
   "cell_type": "code",
   "execution_count": 96,
   "metadata": {},
   "outputs": [],
   "source": [
    "def cost(y_pred,y_true):\n",
    "    N = len(y_true)\n",
    "    total=((y_true-y_pred)**2).sum()\n",
    "    total*=(1/N)\n",
    "    return total"
   ]
  },
  {
   "cell_type": "code",
   "execution_count": 71,
   "metadata": {},
   "outputs": [],
   "source": [
    "def step_gd(x,y,m,alpha):\n",
    "    M = len(x[0])\n",
    "    N = len(x)\n",
    "    slope = np.zeros((M,))\n",
    "    for j in range(M):\n",
    "        for i in range(N):\n",
    "#             print(y[i])\n",
    "            temp=y[i]\n",
    "            for k in range(M):\n",
    "                temp-=m[k]*x[i,k]\n",
    "            temp*=x[i,j]\n",
    "            temp*=(-2/N)\n",
    "#             print(temp)\n",
    "            slope[j]+=temp\n",
    "    for j in range(M):\n",
    "        m[j]-=alpha*slope[j]\n",
    "    return m"
   ]
  },
  {
   "cell_type": "code",
   "execution_count": 115,
   "metadata": {},
   "outputs": [],
   "source": [
    "def gradient_descent(x,y):\n",
    "    alpha = 0.15\n",
    "    iterations = 200\n",
    "    M = len(x[0])\n",
    "    m = np.zeros((M,))\n",
    "    for i in range(iterations):\n",
    "        m = step_gd(x,y,m,alpha)\n",
    "        print(cost(predict(x,m),y))\n",
    "    return m"
   ]
  },
  {
   "cell_type": "code",
   "execution_count": 94,
   "metadata": {},
   "outputs": [],
   "source": [
    "def run():\n",
    "    return gradient_descent(x_train,y_train)"
   ]
  },
  {
   "cell_type": "code",
   "execution_count": 116,
   "metadata": {},
   "outputs": [
    {
     "name": "stdout",
     "output_type": "stream",
     "text": [
      "308.47596776454276\n",
      "167.4977248500738\n",
      "98.27867423421588\n",
      "63.87842022307546\n",
      "46.4870488896736\n",
      "37.4814787840506\n",
      "32.66409684159118\n",
      "29.976731706123328\n",
      "28.40006270181357\n",
      "27.422127979510197\n",
      "26.780717207754474\n",
      "26.337924781926812\n",
      "26.018673920088812\n",
      "25.780325462519098\n",
      "25.597468853123573\n",
      "25.45418042504769\n",
      "25.33999047626159\n",
      "25.24771766581692\n",
      "25.1722614089435\n",
      "25.10989830290037\n",
      "25.05785247129699\n",
      "25.01402073975275\n",
      "24.976789302508486\n",
      "24.944907009684634\n",
      "24.9173952806518\n",
      "24.893482655134793\n",
      "24.872556462203175\n",
      "24.85412668788674\n",
      "24.837798704567703\n",
      "24.823252531184092\n",
      "24.810226958506743\n",
      "24.798507328640856\n",
      "24.787916077352328\n",
      "24.7783053767659\n",
      "24.769551382572434\n",
      "24.76154971246348\n",
      "24.754211873461813\n",
      "24.747462423725228\n",
      "24.7412367053575\n",
      "24.735479023152255\n",
      "24.730141173224116\n",
      "24.725181247500558\n",
      "24.720562656801512\n",
      "24.716253328020123\n",
      "24.71222504070609\n",
      "24.70845287587028\n",
      "24.704914755620898\n",
      "24.70159105672046\n",
      "24.698464284627608\n",
      "24.695518797295954\n",
      "24.692740570119636\n",
      "24.69011699507934\n",
      "24.687636708455308\n",
      "24.68528944251463\n",
      "24.683065897409172\n",
      "24.680957630184075\n",
      "24.67895695833055\n",
      "24.677056875748256\n",
      "24.67525097933351\n",
      "24.67353340469559\n",
      "24.671898769739006\n",
      "24.67034212504319\n",
      "24.66885891013188\n",
      "24.66744491485832\n",
      "24.66609624524431\n",
      "24.664809293205014\n",
      "24.66358070967075\n",
      "24.66240738068412\n",
      "24.661286406107564\n",
      "24.660215080625363\n",
      "24.659190876765138\n",
      "24.65821142969996\n",
      "24.657274523622476\n",
      "24.656378079508816\n",
      "24.6555201441131\n",
      "24.654698880052806\n",
      "24.65391255686246\n",
      "24.653159542908014\n",
      "24.652438298067267\n",
      "24.651747367092714\n",
      "24.65108537358352\n",
      "24.650451014501424\n",
      "24.649843055173285\n",
      "24.649260324729507\n",
      "24.648701711933306\n",
      "24.648166161360944\n",
      "24.6476526698976\n",
      "24.647160283517373\n",
      "24.646688094319497\n",
      "24.64623523779593\n",
      "24.64580089030805\n",
      "24.645384266752746\n",
      "24.64498461840029\n",
      "24.644601230888117\n",
      "24.644233422356486\n",
      "24.643880541713298\n",
      "24.643541967016855\n",
      "24.64321710396625\n",
      "24.642905384490323\n",
      "24.642606265426956\n",
      "24.64231922728532\n",
      "24.642043773084275\n",
      "24.641779427261035\n",
      "24.641525734644596\n",
      "24.641282259488918\n",
      "24.641048584561503\n",
      "24.640824310283204\n",
      "24.640609053915643\n",
      "24.640402448792823\n",
      "24.640204143593927\n",
      "24.64001380165444\n",
      "24.639831100313103\n",
      "24.639655730292315\n",
      "24.639487395109835\n",
      "24.63932581051985\n",
      "24.639170703981584\n",
      "24.639021814153708\n",
      "24.638878890413164\n",
      "24.638741692396792\n",
      "24.638609989564618\n",
      "24.63848356078347\n",
      "24.638362193929808\n",
      "24.6382456855108\n",
      "24.638133840302515\n",
      "24.63802647100448\n",
      "24.637923397909635\n",
      "24.637824448588958\n",
      "24.63772945758998\n",
      "24.637638266148503\n",
      "24.63755072191286\n",
      "24.63746667868017\n",
      "24.63738599614386\n",
      "24.63730853965209\n",
      "24.637234179976446\n",
      "24.63716279309045\n",
      "24.637094259957475\n",
      "24.637028466327536\n",
      "24.6369653025427\n",
      "24.636904663350556\n",
      "24.636846447725503\n",
      "24.636790558697488\n",
      "24.63673690318781\n",
      "24.636685391851753\n",
      "24.636635938927675\n",
      "24.63658846209238\n",
      "24.63654288232232\n",
      "24.636499123760636\n",
      "24.6364571135895\n",
      "24.636416781907794\n",
      "24.636378061613698\n",
      "24.63634088829209\n",
      "24.636305200106545\n",
      "24.63627093769571\n",
      "24.636238044073863\n",
      "24.636206464535555\n",
      "24.636176146564054\n",
      "24.63614703974355\n",
      "24.63611909567486\n",
      "24.636092267894597\n",
      "24.636066511797523\n",
      "24.636041784562106\n",
      "24.636018045079055\n",
      "24.635995253882697\n",
      "24.63597337308518\n",
      "24.63595236631327\n",
      "24.63593219864773\n",
      "24.63591283656509\n",
      "24.635894247881804\n",
      "24.63587640170063\n",
      "24.635859268359155\n",
      "24.63584281938037\n",
      "24.635827027425297\n",
      "24.63581186624744\n",
      "24.635797310649096\n",
      "24.635783336439403\n",
      "24.635769920394104\n",
      "24.635757040216877\n",
      "24.635744674502234\n",
      "24.63573280269994\n",
      "24.635721405080776\n",
      "24.63571046270374\n",
      "24.63569995738457\n",
      "24.63568987166544\n",
      "24.635680188785987\n",
      "24.63567089265539\n",
      "24.635661967825637\n",
      "24.63565339946584\n",
      "24.635645173337547\n",
      "24.635637275771117\n",
      "24.635629693642937\n",
      "24.635622414353644\n",
      "24.635615425807153\n",
      "24.635608716390582\n",
      "24.635602274954906\n",
      "24.63559609079644\n",
      "24.635590153639082\n",
      "24.635584453617163\n",
      "24.635578981259105\n",
      "24.63557372747167\n",
      "24.635568683524802\n"
     ]
    }
   ],
   "source": [
    "coeff = run()"
   ]
  },
  {
   "cell_type": "code",
   "execution_count": 117,
   "metadata": {},
   "outputs": [],
   "source": [
    "def predict(_x,coeff):\n",
    "    M = len(_x[0])\n",
    "    N = len(_x)\n",
    "    pred = np.zeros((N,))\n",
    "    for i in range(N):\n",
    "        for j in range(M):\n",
    "            pred[i]+=coeff[j]*_x[i,j]\n",
    "    return pred"
   ]
  },
  {
   "cell_type": "code",
   "execution_count": 120,
   "metadata": {},
   "outputs": [
    {
     "name": "stdout",
     "output_type": "stream",
     "text": [
      "[22.90618854 18.60856177 21.38512139 11.42645772 42.41308691 34.70920351\n",
      " 33.52440635 26.07609934 40.91646879 25.90462339 19.88044906 22.88646314\n",
      " 19.14761564 18.42858776 21.96577929  7.80358851 20.80579982 18.0140103\n",
      " 23.45749128 28.5489569  21.03481917  3.45406076  7.92458827 28.43630555\n",
      " 33.91393076 18.66717225 24.23724666 25.32585568 38.02899578 16.45308719\n",
      " 42.5920315  20.7254058  31.17297502 30.2446656  25.71319674 20.94169901\n",
      " 16.36342289 20.24343087 19.50092776 24.79573541 28.75040162 25.193766\n",
      " 20.80398367 24.98836111 31.31994154 26.17247208  5.88504451 21.54904135\n",
      " 19.43181864 -6.60360094 40.24757029 22.23155959 40.07819    16.02642741\n",
      " 39.32148927 26.10760783 26.44082505 20.96525053 13.23059011 36.12599459\n",
      " 20.36309824 32.94039496 11.40106504 21.83984473 31.96576234 21.99153306\n",
      " 28.78535591 23.60261516 18.74820401 21.84933437 23.93530115 30.32121253\n",
      " 18.30523303 29.65075979 19.94871836 19.32271939 22.98887124 12.54752719\n",
      " 21.98577074 25.01814355 13.33613718 29.10394091 13.9473264  14.08120282\n",
      " 31.09782198  7.96515559 25.05726267 19.84576017 27.11644527 21.67195239\n",
      " 21.58387303 19.41832632 27.69205718 19.54413145 22.55619377 26.28293653\n",
      " 31.86948555 10.84423659 32.33864386 15.93760611 16.08866501 13.15489296\n",
      " 12.73454579 38.58230678 25.21767534 13.05767002 28.6139019  19.07254379\n",
      " 30.22287114 18.54582118 27.35928695  3.61450266 29.04675522 14.53078522]\n"
     ]
    }
   ],
   "source": [
    "y_pred = predict(x_test,coeff)\n",
    "print(y_pred)"
   ]
  },
  {
   "cell_type": "code",
   "execution_count": 127,
   "metadata": {},
   "outputs": [
    {
     "data": {
      "image/png": "[encoded data removed]",
      "text/plain": [
       "<Figure size 432x288 with 1 Axes>"
      ]
     },
     "metadata": {
      "needs_background": "light"
     },
     "output_type": "display_data"
    }
   ],
   "source": [
    "import matplotlib.pyplot as plt\n",
    "temp = np.arange(0,len(x_test),1)\n",
    "plt.scatter(temp,y_test,color='blue',label='original')\n",
    "plt.scatter(temp,y_pred,color='red',label='predicted')\n",
    "plt.legend()\n",
    "plt.show()"
   ]
  },
  {
   "cell_type": "code",
   "execution_count": 139,
   "metadata": {},
   "outputs": [
    {
     "name": "stdout",
     "output_type": "stream",
     "text": [
      "13\n",
      "(127, 13)\n",
      "(127, 14)\n"
     ]
    }
   ],
   "source": [
    "# reading data to test\n",
    "data_test = np.loadtxt(\"test.csv\",delimiter=',')\n",
    "# whole data\n",
    "N = len(data_test)\n",
    "M = len(data_test[0])\n",
    "print(M)\n",
    "x_to_test = data_test[:,:]\n",
    "print(x_to_test.shape)\n",
    "z = np.ones((N,))\n",
    "x_to_test = np.c_[x_to_test,z]\n",
    "print(x_to_test.shape)"
   ]
  },
  {
   "cell_type": "code",
   "execution_count": 140,
   "metadata": {},
   "outputs": [
    {
     "name": "stdout",
     "output_type": "stream",
     "text": [
      "(127, 14)\n",
      "(14,)\n",
      "[11.40160699 29.9220007  22.30240999 24.95336351 20.83103619  2.592298\n",
      " 29.80649708 24.58002168 18.87624781 23.767464   24.80287892 17.96153893\n",
      " 18.71817876 22.43793807 41.91461264 24.09724416 25.11041521 27.50002246\n",
      " 20.51507959 31.27611833 24.12354404 25.04559744 34.13208078 35.25305309\n",
      " 32.23917841 17.16861841 23.25834942 32.86857012 24.27743137 32.91528898\n",
      " 17.17658798 26.7576295  23.27012295 25.86018501 14.87233388 29.51530961\n",
      " 26.44992367 20.55002391 24.86842822  8.27671743  8.00791983 29.17930731\n",
      " 29.70628502 20.17499928 21.29645172  2.53511788 39.76092791 25.99840242\n",
      " 30.24724656 17.36754471 18.26764605 39.99779705 18.12991535 21.06469267\n",
      " 15.91841323 21.72102998 18.7237544  23.35234529 13.66069488 17.88849399\n",
      " 13.26670845 29.42201405 25.16190546 26.01893528 17.82632073 16.57026468\n",
      " 34.19260333 17.39734374 26.31555827 23.85011829 29.22221036 26.94715104\n",
      " 17.37269013  5.4176899  36.22694043 25.42193942 29.77776066 27.19250357\n",
      " 16.3172538  32.33409499 20.24098633 22.8032353  23.01194282  8.78683424\n",
      " 17.77053249 29.84220418 27.55479384  5.86379127 21.65107046 20.70626938\n",
      " 22.75434524 20.70417736 21.08134639 12.82604352 20.14939477 26.19783131\n",
      " 39.67185614 19.43955205 33.13107007 27.44740483 28.05918697 22.71479167\n",
      " 24.73387653 31.42818726 16.58803168 26.42938215 22.21101097 36.48508391\n",
      " 22.86296081 16.18349896 27.72917194 -0.41301805 13.98957637 16.68550827\n",
      " 35.73653169 19.94942299 21.11036347 25.63134647 22.56827572 18.77891234\n",
      " 13.70328883 35.44827848 23.80223634 25.68964219 18.59567374 20.74648352\n",
      " 13.74040469]\n"
     ]
    }
   ],
   "source": [
    "print(x_to_test.shape)\n",
    "print(coeff.shape)\n",
    "y_pred_test = predict(x_to_test,coeff)\n",
    "print(y_pred_test)"
   ]
  },
  {
   "cell_type": "code",
   "execution_count": 143,
   "metadata": {},
   "outputs": [],
   "source": [
    "np.savetxt(\"predictions.csv\",y_pred_test,delimiter=',',fmt=\"%f\")"
   ]
  }
 ],
 "metadata": {
  "kernelspec": {
   "display_name": "Python 3",
   "language": "python",
   "name": "python3"
  },
  "language_info": {
   "codemirror_mode": {
    "name": "ipython",
    "version": 3
   },
   "file_extension": ".py",
   "mimetype": "text/x-python",
   "name": "python",
   "nbconvert_exporter": "python",
   "pygments_lexer": "ipython3",
   "version": "3.8.5"
  }
 },
 "nbformat": 4,
 "nbformat_minor": 4
}
