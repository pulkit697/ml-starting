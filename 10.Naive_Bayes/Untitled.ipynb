{
 "cells": [
  {
   "cell_type": "code",
   "execution_count": 2,
   "metadata": {},
   "outputs": [],
   "source": [
    "import numpy as np\n",
    "import pandas as pd"
   ]
  },
  {
   "cell_type": "code",
   "execution_count": 3,
   "metadata": {},
   "outputs": [],
   "source": [
    "df = pd.read_csv(\"sample.csv\")"
   ]
  },
  {
   "cell_type": "code",
   "execution_count": 4,
   "metadata": {},
   "outputs": [
    {
     "name": "stdout",
     "output_type": "stream",
     "text": [
      "  x1 x2 x3  y\n",
      "0  a  x  p  1\n",
      "1  a  x  q  2\n",
      "2  b  y  q  3\n",
      "3  b  x  p  1\n",
      "4  c  z  r  3\n",
      "5  c  x  q  2\n",
      "6  b  z  p  1\n"
     ]
    }
   ],
   "source": [
    "print(df)"
   ]
  },
  {
   "cell_type": "code",
   "execution_count": 16,
   "metadata": {},
   "outputs": [
    {
     "name": "stdout",
     "output_type": "stream",
     "text": [
      "[1 2 3 1 3 2 1]\n"
     ]
    }
   ],
   "source": [
    "y = df['y'].to_numpy()\n",
    "print(y)"
   ]
  },
  {
   "cell_type": "code",
   "execution_count": 14,
   "metadata": {},
   "outputs": [
    {
     "name": "stdout",
     "output_type": "stream",
     "text": [
      "[['a' 'x' 'p']\n",
      " ['a' 'x' 'q']\n",
      " ['b' 'y' 'q']\n",
      " ['b' 'x' 'p']\n",
      " ['c' 'z' 'r']\n",
      " ['c' 'x' 'q']\n",
      " ['b' 'z' 'p']]\n"
     ]
    }
   ],
   "source": [
    "x = df.iloc[:,df.columns!='y'].to_numpy()\n",
    "print(x)"
   ]
  },
  {
   "cell_type": "code",
   "execution_count": 22,
   "metadata": {},
   "outputs": [
    {
     "name": "stdout",
     "output_type": "stream",
     "text": [
      "['a' 'x' 'p']\n"
     ]
    }
   ],
   "source": [
    "print(x[0])"
   ]
  },
  {
   "cell_type": "code",
   "execution_count": 77,
   "metadata": {},
   "outputs": [],
   "source": []
  },
  {
   "cell_type": "code",
   "execution_count": 90,
   "metadata": {},
   "outputs": [],
   "source": [
    "def fillDict(x_train,y_train):\n",
    "    result = initDict(x_train,y_train)\n",
    "    for i in range(len(x_train)):\n",
    "        result[\"total_data\"] = result.get(\"total_data\",0) +1\n",
    "        result[y_train[i]][\"total\"] = ((result.get(y_train[i],{})).get(\"total\",0)) +1\n",
    "        for j in range(len(x_train[0])):\n",
    "            result[y_train[i]][j][x_train[i,j]] = result.get(y_train[i],{}).get(j,{}).get(x_train[i,j],0)+1\n",
    "    return result"
   ]
  },
  {
   "cell_type": "code",
   "execution_count": 91,
   "metadata": {},
   "outputs": [
    {
     "name": "stdout",
     "output_type": "stream",
     "text": [
      "{'total_data': 7, 1: {'total': 3, 0: {'c': 0, 'a': 1, 'b': 2}, 1: {'z': 1, 'x': 2, 'y': 0}, 2: {'q': 0, 'r': 0, 'p': 3}}, 2: {'total': 2, 0: {'c': 1, 'a': 1, 'b': 0}, 1: {'z': 0, 'x': 2, 'y': 0}, 2: {'q': 2, 'r': 0, 'p': 0}}, 3: {'total': 2, 0: {'c': 1, 'a': 0, 'b': 1}, 1: {'z': 1, 'x': 0, 'y': 1}, 2: {'q': 1, 'r': 1, 'p': 0}}}\n"
     ]
    }
   ],
   "source": [
    "dic = fillDict(x,y)\n",
    "print(dic)"
   ]
  },
  {
   "cell_type": "code",
   "execution_count": 97,
   "metadata": {},
   "outputs": [
    {
     "name": "stdout",
     "output_type": "stream",
     "text": [
      "1\n"
     ]
    }
   ],
   "source": [
    "def predict(dictionary,x_test):\n",
    "    res = 0\n",
    "    ans = -1\n",
    "    for y in dictionary:\n",
    "#         print(dictionary[y][\"total\"])\n",
    "#         print(dictionary[\"total_data\"])\n",
    "        if y!= 'total_data':\n",
    "            p = (dictionary[y][\"total\"]/dictionary[\"total_data\"])\n",
    "            p=1\n",
    "            for i in range(len(x_test)):\n",
    "                p*=((dictionary[y][i][x_test[i]]))\n",
    "            p/=(dictionary[y][\"total\"])\n",
    "            if p>ans:\n",
    "                ans = p\n",
    "                res = y\n",
    "    return res\n",
    "print(predict(dic,['a','x','r']))"
   ]
  },
  {
   "cell_type": "code",
   "execution_count": 102,
   "metadata": {},
   "outputs": [],
   "source": [
    "def predictLaplace(dictionary,x_test):\n",
    "    res = 0\n",
    "    ans = -1\n",
    "    for y in dictionary:\n",
    "        if y!='total_data':\n",
    "            p = np.log((dictionary[y][\"total\"]) - np.log(dictionary[\"total_data\"]))\n",
    "            for i in range(len(x_test)):\n",
    "                z=(((dictionary[y][i][x_test[i]])+1)/(dictionary[y][\"total\"]*(len(dictionary[y][i].keys()))))\n",
    "                p+=np.log(z)\n",
    "            if p>ans:\n",
    "                ans = p\n",
    "                res = y\n",
    "    return res"
   ]
  },
  {
   "cell_type": "code",
   "execution_count": 115,
   "metadata": {},
   "outputs": [],
   "source": [
    "def predictAll(dic,x_test):\n",
    "    y_p = []\n",
    "    for x in x_test:\n",
    "        y_p.append(predictLaplace(dic,x))\n",
    "    return y_p"
   ]
  },
  {
   "cell_type": "code",
   "execution_count": 103,
   "metadata": {},
   "outputs": [
    {
     "name": "stdout",
     "output_type": "stream",
     "text": [
      "0\n"
     ]
    }
   ],
   "source": [
    "print(predictLaplace(dic,['a','x','r']))"
   ]
  },
  {
   "cell_type": "code",
   "execution_count": 104,
   "metadata": {},
   "outputs": [],
   "source": [
    "from sklearn import datasets"
   ]
  },
  {
   "cell_type": "code",
   "execution_count": 107,
   "metadata": {},
   "outputs": [],
   "source": [
    "iris = datasets.load_iris()\n",
    "x = iris.data\n",
    "y = iris.target"
   ]
  },
  {
   "cell_type": "code",
   "execution_count": 108,
   "metadata": {},
   "outputs": [],
   "source": [
    "def makeLabel(col):\n",
    "    mn = col.min()\n",
    "    mx = col.max()\n",
    "    second = col.mean()\n",
    "    first = (mn+second)/2\n",
    "    third = (mx+second)/2\n",
    "    for i in range(len(col)):\n",
    "        if col[i]<first:\n",
    "            col[i] = 0\n",
    "        elif col[i]<second:\n",
    "            col[i] = 1\n",
    "        elif col[i]<third:\n",
    "            col[i] = 2\n",
    "        else:\n",
    "            col[i] = 3\n",
    "    return col"
   ]
  },
  {
   "cell_type": "code",
   "execution_count": 110,
   "metadata": {},
   "outputs": [],
   "source": [
    "for i in range(x.shape[-1]):\n",
    "    x[:,i] = makeLabel(x[:,i])"
   ]
  },
  {
   "cell_type": "code",
   "execution_count": 111,
   "metadata": {},
   "outputs": [
    {
     "name": "stdout",
     "output_type": "stream",
     "text": [
      "[[1. 2. 0. 0.]\n",
      " [0. 1. 0. 0.]\n",
      " [0. 2. 0. 0.]\n",
      " [0. 2. 0. 0.]\n",
      " [0. 2. 0. 0.]\n",
      " [1. 3. 0. 0.]\n",
      " [0. 2. 0. 0.]\n",
      " [0. 2. 0. 0.]\n",
      " [0. 1. 0. 0.]\n",
      " [0. 2. 0. 0.]\n",
      " [1. 2. 0. 0.]\n",
      " [0. 2. 0. 0.]\n",
      " [0. 1. 0. 0.]\n",
      " [0. 1. 0. 0.]\n",
      " [1. 3. 0. 0.]\n",
      " [1. 3. 0. 0.]\n",
      " [1. 3. 0. 0.]\n",
      " [1. 2. 0. 0.]\n",
      " [1. 3. 0. 0.]\n",
      " [1. 3. 0. 0.]\n",
      " [1. 2. 0. 0.]\n",
      " [1. 2. 0. 0.]\n",
      " [0. 2. 0. 0.]\n",
      " [1. 2. 0. 0.]\n",
      " [0. 2. 0. 0.]\n",
      " [0. 1. 0. 0.]\n",
      " [0. 2. 0. 0.]\n",
      " [1. 2. 0. 0.]\n",
      " [1. 2. 0. 0.]\n",
      " [0. 2. 0. 0.]\n",
      " [0. 2. 0. 0.]\n",
      " [1. 2. 0. 0.]\n",
      " [1. 3. 0. 0.]\n",
      " [1. 3. 0. 0.]\n",
      " [0. 2. 0. 0.]\n",
      " [0. 2. 0. 0.]\n",
      " [1. 2. 0. 0.]\n",
      " [0. 2. 0. 0.]\n",
      " [0. 1. 0. 0.]\n",
      " [1. 2. 0. 0.]\n",
      " [0. 2. 0. 0.]\n",
      " [0. 0. 0. 0.]\n",
      " [0. 2. 0. 0.]\n",
      " [0. 2. 0. 0.]\n",
      " [1. 3. 0. 0.]\n",
      " [0. 1. 0. 0.]\n",
      " [1. 3. 0. 0.]\n",
      " [0. 2. 0. 0.]\n",
      " [1. 2. 0. 0.]\n",
      " [0. 2. 0. 0.]\n",
      " [3. 2. 2. 2.]\n",
      " [2. 2. 2. 2.]\n",
      " [3. 2. 2. 2.]\n",
      " [1. 0. 2. 2.]\n",
      " [2. 1. 2. 2.]\n",
      " [1. 1. 2. 2.]\n",
      " [2. 2. 2. 2.]\n",
      " [0. 0. 1. 1.]\n",
      " [2. 1. 2. 2.]\n",
      " [1. 1. 2. 2.]\n",
      " [0. 0. 1. 1.]\n",
      " [2. 1. 2. 2.]\n",
      " [2. 0. 2. 1.]\n",
      " [2. 1. 2. 2.]\n",
      " [1. 1. 1. 2.]\n",
      " [2. 2. 2. 2.]\n",
      " [1. 1. 2. 2.]\n",
      " [1. 1. 2. 1.]\n",
      " [2. 0. 2. 2.]\n",
      " [1. 0. 2. 1.]\n",
      " [2. 2. 2. 2.]\n",
      " [2. 1. 2. 2.]\n",
      " [2. 0. 2. 2.]\n",
      " [2. 1. 2. 2.]\n",
      " [2. 1. 2. 2.]\n",
      " [2. 1. 2. 2.]\n",
      " [2. 1. 2. 2.]\n",
      " [2. 1. 2. 2.]\n",
      " [2. 1. 2. 2.]\n",
      " [1. 1. 1. 1.]\n",
      " [1. 0. 2. 1.]\n",
      " [1. 0. 1. 1.]\n",
      " [1. 1. 2. 2.]\n",
      " [2. 1. 2. 2.]\n",
      " [1. 1. 2. 2.]\n",
      " [2. 2. 2. 2.]\n",
      " [2. 2. 2. 2.]\n",
      " [2. 0. 2. 2.]\n",
      " [1. 1. 2. 2.]\n",
      " [1. 0. 2. 2.]\n",
      " [1. 1. 2. 2.]\n",
      " [2. 1. 2. 2.]\n",
      " [1. 1. 2. 2.]\n",
      " [0. 0. 1. 1.]\n",
      " [1. 1. 2. 2.]\n",
      " [1. 1. 2. 2.]\n",
      " [1. 1. 2. 2.]\n",
      " [2. 1. 2. 2.]\n",
      " [1. 0. 1. 1.]\n",
      " [1. 1. 2. 2.]\n",
      " [2. 2. 3. 3.]\n",
      " [1. 1. 2. 3.]\n",
      " [3. 1. 3. 3.]\n",
      " [2. 1. 3. 2.]\n",
      " [2. 1. 3. 3.]\n",
      " [3. 1. 3. 3.]\n",
      " [0. 0. 2. 2.]\n",
      " [3. 1. 3. 2.]\n",
      " [2. 0. 3. 2.]\n",
      " [3. 2. 3. 3.]\n",
      " [2. 2. 2. 3.]\n",
      " [2. 1. 2. 3.]\n",
      " [2. 1. 3. 3.]\n",
      " [1. 0. 2. 3.]\n",
      " [1. 1. 2. 3.]\n",
      " [2. 2. 2. 3.]\n",
      " [2. 1. 3. 2.]\n",
      " [3. 3. 3. 3.]\n",
      " [3. 1. 3. 3.]\n",
      " [2. 0. 2. 2.]\n",
      " [3. 2. 3. 3.]\n",
      " [1. 1. 2. 3.]\n",
      " [3. 1. 3. 3.]\n",
      " [2. 1. 2. 2.]\n",
      " [2. 2. 3. 3.]\n",
      " [3. 2. 3. 2.]\n",
      " [2. 1. 2. 2.]\n",
      " [2. 1. 2. 2.]\n",
      " [2. 1. 3. 3.]\n",
      " [3. 1. 3. 2.]\n",
      " [3. 1. 3. 3.]\n",
      " [3. 3. 3. 3.]\n",
      " [2. 1. 3. 3.]\n",
      " [2. 1. 2. 2.]\n",
      " [2. 1. 3. 2.]\n",
      " [3. 1. 3. 3.]\n",
      " [2. 2. 3. 3.]\n",
      " [2. 2. 3. 2.]\n",
      " [2. 1. 2. 2.]\n",
      " [3. 2. 3. 3.]\n",
      " [2. 2. 3. 3.]\n",
      " [3. 2. 2. 3.]\n",
      " [1. 1. 2. 3.]\n",
      " [2. 2. 3. 3.]\n",
      " [2. 2. 3. 3.]\n",
      " [2. 1. 2. 3.]\n",
      " [2. 0. 2. 3.]\n",
      " [2. 1. 2. 3.]\n",
      " [2. 2. 3. 3.]\n",
      " [2. 1. 2. 2.]]\n"
     ]
    }
   ],
   "source": [
    "print(x)"
   ]
  },
  {
   "cell_type": "code",
   "execution_count": null,
   "metadata": {},
   "outputs": [],
   "source": []
  },
  {
   "cell_type": "code",
   "execution_count": 106,
   "metadata": {},
   "outputs": [],
   "source": [
    "from sklearn import model_selection\n",
    "x1,x2,y1,y2 = model_selection.train_test_split(x,y)"
   ]
  },
  {
   "cell_type": "code",
   "execution_count": 112,
   "metadata": {},
   "outputs": [],
   "source": [
    "diccc = fillDict(x1,y1)\n"
   ]
  },
  {
   "cell_type": "code",
   "execution_count": 114,
   "metadata": {},
   "outputs": [
    {
     "name": "stdout",
     "output_type": "stream",
     "text": [
      "{'total_data': 112, 0: {'total': 37, 0: {4.6: 4, 5.0: 8, 5.9: 0, 6.6: 0, 6.4: 0, 6.2: 0, 4.8: 3, 6.3: 0, 6.9: 0, 7.2: 0, 5.1: 5, 6.7: 0, 7.0: 0, 4.9: 4, 4.4: 3, 5.4: 3, 5.5: 1, 5.6: 0, 6.1: 0, 6.0: 0, 6.5: 0, 7.4: 0, 7.9: 0, 7.6: 0, 4.7: 1, 5.8: 1, 5.7: 1, 5.3: 1, 5.2: 2, 6.8: 0, 7.7: 0}, 1: {2.9: 1, 3.6: 3, 3.0: 3, 3.1: 4, 2.8: 0, 2.5: 0, 3.2: 4, 3.4: 8, 3.8: 2, 2.4: 0, 4.4: 1, 2.0: 0, 3.5: 4, 4.0: 1, 4.1: 1, 2.6: 0, 2.7: 0, 2.2: 0, 3.3: 2, 3.7: 2, 3.9: 1}, 2: {1.0: 1, 1.6: 6, 3.8: 0, 4.6: 0, 5.6: 0, 5.1: 0, 4.3: 0, 5.0: 0, 5.7: 0, 6.1: 0, 5.2: 0, 4.7: 0, 1.5: 9, 6.0: 0, 6.9: 0, 3.0: 0, 3.5: 0, 4.1: 0, 4.9: 0, 4.5: 0, 4.4: 0, 4.0: 0, 5.5: 0, 5.4: 0, 6.4: 0, 6.6: 0, 1.7: 3, 1.2: 2, 3.3: 0, 3.7: 0, 4.2: 0, 1.3: 5, 4.8: 0, 5.8: 0, 6.7: 0, 1.4: 9, 1.9: 2, 3.9: 0}, 3: {0.2: 26, 1.8: 0, 2.1: 0, 1.9: 0, 1.3: 0, 2.3: 0, 2.5: 0, 2.4: 0, 1.1: 0, 1.4: 0, 1.6: 0, 1.5: 0, 1.0: 0, 0.5: 1, 2.0: 0, 0.6: 1, 1.7: 0, 1.2: 0, 0.1: 3, 2.2: 0, 0.3: 2, 0.4: 4}}, 1: {'total': 36, 0: {4.6: 0, 5.0: 1, 5.9: 2, 6.6: 1, 6.4: 1, 6.2: 1, 4.8: 0, 6.3: 1, 6.9: 0, 7.2: 0, 5.1: 1, 6.7: 3, 7.0: 1, 4.9: 1, 4.4: 0, 5.4: 0, 5.5: 4, 5.6: 4, 6.1: 3, 6.0: 4, 6.5: 1, 7.4: 0, 7.9: 0, 7.6: 0, 4.7: 0, 5.8: 3, 5.7: 4, 5.3: 0, 5.2: 0, 6.8: 0, 7.7: 0}, 1: {2.9: 5, 3.6: 0, 3.0: 6, 3.1: 2, 2.8: 4, 2.5: 4, 3.2: 3, 3.4: 1, 3.8: 0, 2.4: 3, 4.4: 0, 2.0: 1, 3.5: 0, 4.0: 0, 4.1: 0, 2.6: 2, 2.7: 4, 2.2: 1, 3.3: 0, 3.7: 0, 3.9: 0}, 2: {1.0: 0, 1.6: 0, 3.8: 1, 4.6: 3, 5.6: 0, 5.1: 1, 4.3: 1, 5.0: 1, 5.7: 0, 6.1: 0, 5.2: 0, 4.7: 3, 1.5: 0, 6.0: 0, 6.9: 0, 3.0: 1, 3.5: 1, 4.1: 3, 4.9: 1, 4.5: 5, 4.4: 2, 4.0: 4, 5.5: 0, 5.4: 0, 6.4: 0, 6.6: 0, 1.7: 0, 1.2: 0, 3.3: 1, 3.7: 1, 4.2: 4, 1.3: 0, 4.8: 1, 5.8: 0, 6.7: 0, 1.4: 0, 1.9: 0, 3.9: 2}, 3: {0.2: 0, 1.8: 1, 2.1: 0, 1.9: 0, 1.3: 9, 2.3: 0, 2.5: 0, 2.4: 0, 1.1: 3, 1.4: 4, 1.6: 2, 1.5: 7, 1.0: 5, 0.5: 0, 2.0: 0, 0.6: 0, 1.7: 1, 1.2: 4, 0.1: 0, 2.2: 0, 0.3: 0, 0.4: 0}}, 2: {'total': 39, 0: {4.6: 0, 5.0: 0, 5.9: 1, 6.6: 0, 6.4: 2, 6.2: 1, 4.8: 0, 6.3: 5, 6.9: 3, 7.2: 3, 5.1: 0, 6.7: 5, 7.0: 0, 4.9: 1, 4.4: 0, 5.4: 0, 5.5: 0, 5.6: 1, 6.1: 2, 6.0: 1, 6.5: 3, 7.4: 1, 7.9: 1, 7.6: 1, 4.7: 0, 5.8: 3, 5.7: 0, 5.3: 0, 5.2: 0, 6.8: 1, 7.7: 4}, 1: {2.9: 0, 3.6: 1, 3.0: 9, 3.1: 3, 2.8: 8, 2.5: 3, 3.2: 3, 3.4: 1, 3.8: 2, 2.4: 0, 4.4: 0, 2.0: 0, 3.5: 0, 4.0: 0, 4.1: 0, 2.6: 2, 2.7: 3, 2.2: 1, 3.3: 3, 3.7: 0, 3.9: 0}, 2: {1.0: 0, 1.6: 0, 3.8: 0, 4.6: 0, 5.6: 5, 5.1: 7, 4.3: 0, 5.0: 2, 5.7: 3, 6.1: 3, 5.2: 1, 4.7: 0, 1.5: 0, 6.0: 2, 6.9: 1, 3.0: 0, 3.5: 0, 4.1: 0, 4.9: 3, 4.5: 1, 4.4: 0, 4.0: 0, 5.5: 2, 5.4: 1, 6.4: 1, 6.6: 1, 1.7: 0, 1.2: 0, 3.3: 0, 3.7: 0, 4.2: 0, 1.3: 0, 4.8: 1, 5.8: 3, 6.7: 2, 1.4: 0, 1.9: 0, 3.9: 0}, 3: {0.2: 0, 1.8: 7, 2.1: 5, 1.9: 4, 1.3: 0, 2.3: 5, 2.5: 3, 2.4: 3, 1.1: 0, 1.4: 1, 1.6: 1, 1.5: 2, 1.0: 0, 0.5: 0, 2.0: 4, 0.6: 0, 1.7: 1, 1.2: 0, 0.1: 0, 2.2: 3, 0.3: 0, 0.4: 0}}}\n"
     ]
    }
   ],
   "source": [
    "print(diccc)"
   ]
  },
  {
   "cell_type": "code",
   "execution_count": 116,
   "metadata": {},
   "outputs": [
    {
     "ename": "KeyError",
     "evalue": "2.3",
     "output_type": "error",
     "traceback": [
      "\u001b[1;31m---------------------------------------------------------------------------\u001b[0m",
      "\u001b[1;31mKeyError\u001b[0m                                  Traceback (most recent call last)",
      "\u001b[1;32m<ipython-input-116-ddd21cc0f34e>\u001b[0m in \u001b[0;36m<module>\u001b[1;34m\u001b[0m\n\u001b[1;32m----> 1\u001b[1;33m \u001b[0my_pred\u001b[0m \u001b[1;33m=\u001b[0m \u001b[0mpredictAll\u001b[0m\u001b[1;33m(\u001b[0m\u001b[0mdiccc\u001b[0m\u001b[1;33m,\u001b[0m\u001b[0mx2\u001b[0m\u001b[1;33m)\u001b[0m\u001b[1;33m\u001b[0m\u001b[1;33m\u001b[0m\u001b[0m\n\u001b[0m",
      "\u001b[1;32m<ipython-input-115-3b4aa029a80d>\u001b[0m in \u001b[0;36mpredictAll\u001b[1;34m(dic, x_test)\u001b[0m\n\u001b[0;32m      2\u001b[0m     \u001b[0my_p\u001b[0m \u001b[1;33m=\u001b[0m \u001b[1;33m[\u001b[0m\u001b[1;33m]\u001b[0m\u001b[1;33m\u001b[0m\u001b[1;33m\u001b[0m\u001b[0m\n\u001b[0;32m      3\u001b[0m     \u001b[1;32mfor\u001b[0m \u001b[0mx\u001b[0m \u001b[1;32min\u001b[0m \u001b[0mx_test\u001b[0m\u001b[1;33m:\u001b[0m\u001b[1;33m\u001b[0m\u001b[1;33m\u001b[0m\u001b[0m\n\u001b[1;32m----> 4\u001b[1;33m         \u001b[0my_p\u001b[0m\u001b[1;33m.\u001b[0m\u001b[0mappend\u001b[0m\u001b[1;33m(\u001b[0m\u001b[0mpredictLaplace\u001b[0m\u001b[1;33m(\u001b[0m\u001b[0mdic\u001b[0m\u001b[1;33m,\u001b[0m\u001b[0mx\u001b[0m\u001b[1;33m)\u001b[0m\u001b[1;33m)\u001b[0m\u001b[1;33m\u001b[0m\u001b[1;33m\u001b[0m\u001b[0m\n\u001b[0m\u001b[0;32m      5\u001b[0m     \u001b[1;32mreturn\u001b[0m \u001b[0my_p\u001b[0m\u001b[1;33m\u001b[0m\u001b[1;33m\u001b[0m\u001b[0m\n",
      "\u001b[1;32m<ipython-input-102-1989bd5910b8>\u001b[0m in \u001b[0;36mpredictLaplace\u001b[1;34m(dictionary, x_test)\u001b[0m\n\u001b[0;32m      6\u001b[0m             \u001b[0mp\u001b[0m \u001b[1;33m=\u001b[0m \u001b[0mnp\u001b[0m\u001b[1;33m.\u001b[0m\u001b[0mlog\u001b[0m\u001b[1;33m(\u001b[0m\u001b[1;33m(\u001b[0m\u001b[0mdictionary\u001b[0m\u001b[1;33m[\u001b[0m\u001b[0my\u001b[0m\u001b[1;33m]\u001b[0m\u001b[1;33m[\u001b[0m\u001b[1;34m\"total\"\u001b[0m\u001b[1;33m]\u001b[0m\u001b[1;33m)\u001b[0m \u001b[1;33m-\u001b[0m \u001b[0mnp\u001b[0m\u001b[1;33m.\u001b[0m\u001b[0mlog\u001b[0m\u001b[1;33m(\u001b[0m\u001b[0mdictionary\u001b[0m\u001b[1;33m[\u001b[0m\u001b[1;34m\"total_data\"\u001b[0m\u001b[1;33m]\u001b[0m\u001b[1;33m)\u001b[0m\u001b[1;33m)\u001b[0m\u001b[1;33m\u001b[0m\u001b[1;33m\u001b[0m\u001b[0m\n\u001b[0;32m      7\u001b[0m             \u001b[1;32mfor\u001b[0m \u001b[0mi\u001b[0m \u001b[1;32min\u001b[0m \u001b[0mrange\u001b[0m\u001b[1;33m(\u001b[0m\u001b[0mlen\u001b[0m\u001b[1;33m(\u001b[0m\u001b[0mx_test\u001b[0m\u001b[1;33m)\u001b[0m\u001b[1;33m)\u001b[0m\u001b[1;33m:\u001b[0m\u001b[1;33m\u001b[0m\u001b[1;33m\u001b[0m\u001b[0m\n\u001b[1;32m----> 8\u001b[1;33m                 \u001b[0mz\u001b[0m\u001b[1;33m=\u001b[0m\u001b[1;33m(\u001b[0m\u001b[1;33m(\u001b[0m\u001b[1;33m(\u001b[0m\u001b[0mdictionary\u001b[0m\u001b[1;33m[\u001b[0m\u001b[0my\u001b[0m\u001b[1;33m]\u001b[0m\u001b[1;33m[\u001b[0m\u001b[0mi\u001b[0m\u001b[1;33m]\u001b[0m\u001b[1;33m[\u001b[0m\u001b[0mx_test\u001b[0m\u001b[1;33m[\u001b[0m\u001b[0mi\u001b[0m\u001b[1;33m]\u001b[0m\u001b[1;33m]\u001b[0m\u001b[1;33m)\u001b[0m\u001b[1;33m+\u001b[0m\u001b[1;36m1\u001b[0m\u001b[1;33m)\u001b[0m\u001b[1;33m/\u001b[0m\u001b[1;33m(\u001b[0m\u001b[0mdictionary\u001b[0m\u001b[1;33m[\u001b[0m\u001b[0my\u001b[0m\u001b[1;33m]\u001b[0m\u001b[1;33m[\u001b[0m\u001b[1;34m\"total\"\u001b[0m\u001b[1;33m]\u001b[0m\u001b[1;33m*\u001b[0m\u001b[1;33m(\u001b[0m\u001b[0mlen\u001b[0m\u001b[1;33m(\u001b[0m\u001b[0mdictionary\u001b[0m\u001b[1;33m[\u001b[0m\u001b[0my\u001b[0m\u001b[1;33m]\u001b[0m\u001b[1;33m[\u001b[0m\u001b[0mi\u001b[0m\u001b[1;33m]\u001b[0m\u001b[1;33m.\u001b[0m\u001b[0mkeys\u001b[0m\u001b[1;33m(\u001b[0m\u001b[1;33m)\u001b[0m\u001b[1;33m)\u001b[0m\u001b[1;33m)\u001b[0m\u001b[1;33m)\u001b[0m\u001b[1;33m)\u001b[0m\u001b[1;33m\u001b[0m\u001b[1;33m\u001b[0m\u001b[0m\n\u001b[0m\u001b[0;32m      9\u001b[0m                 \u001b[0mp\u001b[0m\u001b[1;33m+=\u001b[0m\u001b[0mnp\u001b[0m\u001b[1;33m.\u001b[0m\u001b[0mlog\u001b[0m\u001b[1;33m(\u001b[0m\u001b[0mz\u001b[0m\u001b[1;33m)\u001b[0m\u001b[1;33m\u001b[0m\u001b[1;33m\u001b[0m\u001b[0m\n\u001b[0;32m     10\u001b[0m             \u001b[1;32mif\u001b[0m \u001b[0mp\u001b[0m\u001b[1;33m>\u001b[0m\u001b[0mans\u001b[0m\u001b[1;33m:\u001b[0m\u001b[1;33m\u001b[0m\u001b[1;33m\u001b[0m\u001b[0m\n",
      "\u001b[1;31mKeyError\u001b[0m: 2.3"
     ]
    }
   ],
   "source": [
    "y_pred = predictAll(diccc,x2)"
   ]
  },
  {
   "cell_type": "code",
   "execution_count": null,
   "metadata": {},
   "outputs": [],
   "source": []
  }
 ],
 "metadata": {
  "kernelspec": {
   "display_name": "Python 3",
   "language": "python",
   "name": "python3"
  },
  "language_info": {
   "codemirror_mode": {
    "name": "ipython",
    "version": 3
   },
   "file_extension": ".py",
   "mimetype": "text/x-python",
   "name": "python",
   "nbconvert_exporter": "python",
   "pygments_lexer": "ipython3",
   "version": "3.8.5"
  }
 },
 "nbformat": 4,
 "nbformat_minor": 4
}
